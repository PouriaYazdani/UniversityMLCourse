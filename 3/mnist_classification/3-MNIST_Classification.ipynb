{
 "cells": [
  {
   "cell_type": "markdown",
   "metadata": {},
   "source": [
    "https://drive.google.com/file/d/1jzNjpMXW9hz9Uh0K8h83a1t4dyC0E2Rv/view?usp=drive_link"
   ]
  },
  {
   "cell_type": "markdown",
   "metadata": {},
   "source": [
    "<center> <b>Machine Learning - SBU FALL 2024</b></center> "
   ]
  },
  {
   "cell_type": "code",
   "execution_count": 38,
   "metadata": {},
   "outputs": [],
   "source": [
    "student_number = '400243082'\n",
    "Name = 'Pouria'\n",
    "Last_Name = 'Yazdani'"
   ]
  },
  {
   "cell_type": "markdown",
   "metadata": {
    "id": "31jdNrgkWCfj"
   },
   "source": [
    "# Imported Libraries"
   ]
  },
  {
   "cell_type": "code",
   "execution_count": 39,
   "metadata": {},
   "outputs": [],
   "source": [
    "import torch\n",
    "import torch.nn as nn               # For building neural network layers\n",
    "import torch.optim as optim         # For optimizers (SGD, Adam, etc.)\n",
    "import torch.nn.functional as F     # For activation functions and other operations\n",
    "from torchvision import datasets, transforms  # For MNIST dataset and data preprocessing if its needed\n",
    "from torch.utils.data import DataLoader, Dataset       # For batching and shuffling data\n",
    "\n",
    "# Additional libraries for visualization and analysis\n",
    "import matplotlib.pyplot as plt     # For plotting graphs and visualizations\n",
    "import numpy as np                  # For numerical operations\n",
    "import seaborn as sns               # For plotting the confusion matrix heatmap\n",
    "from sklearn.metrics import confusion_matrix  # For computing the confusion matrix"
   ]
  },
  {
   "cell_type": "markdown",
   "metadata": {
    "id": "WQhCgMOpWCfr"
   },
   "source": [
    "# Build a Model for the MNIST Dataset\n",
    "\n",
    "In this Notebook, your goal is to build a machine learning model that achieves an accuracy of **98% or higher** on the MNIST dataset. The MNIST dataset contains images of handwritten digits (0-9), and it’s a popular benchmark for evaluating classification models. To achieve this accuracy threshold, you’ll need to carefully design, train, and evaluate your model.\n",
    "\n",
    "## Objective\n",
    "\n",
    "Using only the provided libraries, you will:\n",
    "1. **Load and preprocess** the MNIST data.\n",
    "2. **Build** a neural network model suitable for image classification.\n",
    "3. **Train** the model on the training data, monitoring accuracy and adjusting parameters as needed.\n",
    "4. **Evaluate** the model on the test data to ensure it meets the required accuracy threshold.\n",
    "\n",
    "Each cell in this section will guide you through these steps, with descriptions explaining the purpose of each step and what you need to do. Follow the instructions carefully, and use your understanding of neural networks to achieve the best possible performance on the MNIST dataset."
   ]
  },
  {
   "cell_type": "markdown",
   "metadata": {
    "id": "_32shWkIWCfs"
   },
   "source": [
    "## Step 1: Loading and Preprocessing the MNIST Dataset\n",
    "\n",
    "In this cell, you will:\n",
    "1. **Load the MNIST dataset**: This dataset consists of 28x28 grayscale images of handwritten digits (0–9). Each image is represented as a 28x28 array of pixel values, and each label corresponds to the digit in the image.\n",
    "   \n",
    "2. **Define key variables**:\n",
    "   - `num_classes`: The number of unique classes in the dataset (0–9).\n",
    "   - `input_shape`: The shape of each image, which will help in defining the model's input layer.\n",
    "   - `num_features`: The total number of pixels in each image, useful if you need to flatten the images into a 1D vector for the model.\n",
    "\n",
    "3. **Normalize the pixel values**: The pixel values are divided by 255 to rescale them from their original range of 0–255 to a range of 0–1. This normalization step helps the model converge faster and improves performance.\n",
    "\n",
    "4. **One-hot encode the labels**: Convert the labels into a one-hot encoded format. Instead of representing the labels as single integers (e.g., `3` for the digit 3), one-hot encoding represents each label as a binary vector (e.g., `[0, 0, 0, 1, 0, 0, 0, 0, 0, 0]` for the digit 3). This format is commonly used for multi-class classification problems and is required for training neural networks effectively.\n",
    "\n",
    "By the end of this cell, your data will be ready for building and training the model."
   ]
  },
  {
   "cell_type": "code",
   "execution_count": 40,
   "metadata": {},
   "outputs": [],
   "source": [
    "transform = transforms.Compose([\n",
    "    transforms.ToTensor(), # automatically transforms to [0,1]\n",
    "])"
   ]
  },
  {
   "cell_type": "code",
   "execution_count": 41,
   "metadata": {},
   "outputs": [],
   "source": [
    "\n",
    "class MNISTDataset(Dataset):\n",
    "    def __init__(self, train=True, transform=None):\n",
    "        self.dataset = datasets.MNIST(\n",
    "            root='data',\n",
    "            train=train,\n",
    "            transform=transform,\n",
    "            download=True\n",
    "        )\n",
    "        self.num_classes = len(set(self.dataset.targets.numpy()))\n",
    "\n",
    "\n",
    "    def __len__(self):\n",
    "        return len(self.dataset)\n",
    "\n",
    "    def __getitem__(self, idx):\n",
    "        image, label = self.dataset[idx]\n",
    "        return image, label"
   ]
  },
  {
   "cell_type": "code",
   "execution_count": 42,
   "metadata": {},
   "outputs": [],
   "source": [
    "train_dataset = MNISTDataset(train=True, transform=transform)\n",
    "test_dataset = MNISTDataset(train=False, transform=transform)"
   ]
  },
  {
   "cell_type": "code",
   "execution_count": 43,
   "metadata": {},
   "outputs": [
    {
     "name": "stdout",
     "output_type": "stream",
     "text": [
      "60000\n",
      "10000\n",
      "(tensor([[[0.0000, 0.0000, 0.0000, 0.0000, 0.0000, 0.0000, 0.0000, 0.0000,\n",
      "          0.0000, 0.0000, 0.0000, 0.0000, 0.0000, 0.0000, 0.0000, 0.0000,\n",
      "          0.0000, 0.0000, 0.0000, 0.0000, 0.0000, 0.0000, 0.0000, 0.0000,\n",
      "          0.0000, 0.0000, 0.0000, 0.0000],\n",
      "         [0.0000, 0.0000, 0.0000, 0.0000, 0.0000, 0.0000, 0.0000, 0.0000,\n",
      "          0.0000, 0.0000, 0.0000, 0.0000, 0.0000, 0.0000, 0.0000, 0.0000,\n",
      "          0.0000, 0.0000, 0.0000, 0.0000, 0.0000, 0.0000, 0.0000, 0.0000,\n",
      "          0.0000, 0.0000, 0.0000, 0.0000],\n",
      "         [0.0000, 0.0000, 0.0000, 0.0000, 0.0000, 0.0000, 0.0000, 0.0000,\n",
      "          0.0000, 0.0000, 0.0000, 0.0000, 0.0000, 0.0000, 0.0000, 0.0000,\n",
      "          0.0000, 0.0000, 0.0000, 0.0000, 0.0000, 0.0000, 0.0000, 0.0000,\n",
      "          0.0000, 0.0000, 0.0000, 0.0000],\n",
      "         [0.0000, 0.0000, 0.0000, 0.0000, 0.0000, 0.0000, 0.0000, 0.0000,\n",
      "          0.0000, 0.0000, 0.0000, 0.0000, 0.0000, 0.0000, 0.0000, 0.0000,\n",
      "          0.0000, 0.0000, 0.0000, 0.0000, 0.0000, 0.0000, 0.0000, 0.0000,\n",
      "          0.0000, 0.0000, 0.0000, 0.0000],\n",
      "         [0.0000, 0.0000, 0.0000, 0.0000, 0.0000, 0.0000, 0.0000, 0.0000,\n",
      "          0.0000, 0.0000, 0.0000, 0.0000, 0.0000, 0.0000, 0.0000, 0.0000,\n",
      "          0.0000, 0.0000, 0.0000, 0.0000, 0.0000, 0.0000, 0.0000, 0.0000,\n",
      "          0.0000, 0.0000, 0.0000, 0.0000],\n",
      "         [0.0000, 0.0000, 0.0000, 0.0000, 0.0000, 0.0000, 0.0000, 0.0000,\n",
      "          0.0000, 0.0000, 0.0000, 0.0000, 0.0000, 0.0000, 0.0000, 0.0000,\n",
      "          0.0000, 0.0000, 0.0000, 0.0431, 0.7961, 0.8980, 0.1255, 0.0000,\n",
      "          0.0000, 0.0000, 0.0000, 0.0000],\n",
      "         [0.0000, 0.0000, 0.0000, 0.0000, 0.0000, 0.0000, 0.0000, 0.0000,\n",
      "          0.0000, 0.0000, 0.0000, 0.0000, 0.0000, 0.0000, 0.0000, 0.1020,\n",
      "          0.1843, 0.1843, 0.1176, 0.3725, 0.9961, 0.8431, 0.0510, 0.0000,\n",
      "          0.0000, 0.0000, 0.0000, 0.0000],\n",
      "         [0.0000, 0.0000, 0.0000, 0.0000, 0.0000, 0.0000, 0.0000, 0.0000,\n",
      "          0.0000, 0.0000, 0.0000, 0.1765, 0.6039, 0.7255, 0.7255, 0.8745,\n",
      "          0.9922, 0.9922, 0.5216, 0.6863, 1.0000, 0.7373, 0.0745, 0.0000,\n",
      "          0.0000, 0.0000, 0.0000, 0.0000],\n",
      "         [0.0000, 0.0000, 0.0000, 0.0000, 0.0000, 0.0000, 0.0000, 0.0000,\n",
      "          0.0000, 0.0000, 0.0000, 0.4314, 0.9922, 0.9922, 0.9922, 0.9647,\n",
      "          0.6314, 0.8941, 0.9922, 0.9922, 0.9961, 0.3608, 0.0000, 0.0000,\n",
      "          0.0000, 0.0000, 0.0000, 0.0000],\n",
      "         [0.0000, 0.0000, 0.0000, 0.0000, 0.0000, 0.0000, 0.0000, 0.0000,\n",
      "          0.0000, 0.0000, 0.5020, 0.9608, 0.9922, 0.6196, 0.5373, 0.0824,\n",
      "          0.0000, 0.1882, 0.9137, 0.9922, 0.9137, 0.0314, 0.0000, 0.0000,\n",
      "          0.0000, 0.0000, 0.0000, 0.0000],\n",
      "         [0.0000, 0.0000, 0.0000, 0.0000, 0.0000, 0.0000, 0.0000, 0.0000,\n",
      "          0.0000, 0.0000, 0.5451, 0.9961, 0.8745, 0.0980, 0.0000, 0.0000,\n",
      "          0.1412, 0.6667, 0.9961, 0.9569, 0.4157, 0.0000, 0.0000, 0.0000,\n",
      "          0.0000, 0.0000, 0.0000, 0.0000],\n",
      "         [0.0000, 0.0000, 0.0000, 0.0000, 0.0000, 0.0000, 0.0000, 0.0000,\n",
      "          0.0000, 0.0000, 0.2157, 0.8314, 0.9922, 0.6314, 0.0431, 0.1020,\n",
      "          0.6980, 0.9922, 0.9255, 0.4431, 0.0000, 0.0000, 0.0000, 0.0000,\n",
      "          0.0000, 0.0000, 0.0000, 0.0000],\n",
      "         [0.0000, 0.0000, 0.0000, 0.0000, 0.0000, 0.0000, 0.0000, 0.0000,\n",
      "          0.0000, 0.0000, 0.0275, 0.6078, 0.9922, 0.8941, 0.3137, 0.8745,\n",
      "          0.9922, 0.9922, 0.4275, 0.0000, 0.0000, 0.0000, 0.0000, 0.0000,\n",
      "          0.0000, 0.0000, 0.0000, 0.0000],\n",
      "         [0.0000, 0.0000, 0.0000, 0.0000, 0.0000, 0.0000, 0.0000, 0.0000,\n",
      "          0.0000, 0.0000, 0.0000, 0.5529, 0.9922, 0.9922, 0.9922, 0.9961,\n",
      "          0.9922, 0.6039, 0.1137, 0.0000, 0.0000, 0.0000, 0.0000, 0.0000,\n",
      "          0.0000, 0.0000, 0.0000, 0.0000],\n",
      "         [0.0000, 0.0000, 0.0000, 0.0000, 0.0000, 0.0000, 0.0000, 0.0000,\n",
      "          0.0000, 0.0000, 0.0000, 0.4314, 0.9922, 0.9922, 0.9922, 0.9961,\n",
      "          0.7020, 0.1490, 0.0000, 0.0000, 0.0000, 0.0000, 0.0000, 0.0000,\n",
      "          0.0000, 0.0000, 0.0000, 0.0000],\n",
      "         [0.0000, 0.0000, 0.0000, 0.0000, 0.0000, 0.0000, 0.0000, 0.0000,\n",
      "          0.0000, 0.0000, 0.0118, 0.6706, 0.9961, 0.9961, 0.9961, 0.7020,\n",
      "          0.0000, 0.0000, 0.0000, 0.0000, 0.0000, 0.0000, 0.0000, 0.0000,\n",
      "          0.0000, 0.0000, 0.0000, 0.0000],\n",
      "         [0.0000, 0.0000, 0.0000, 0.0000, 0.0000, 0.0000, 0.0000, 0.0000,\n",
      "          0.0000, 0.0000, 0.6706, 0.9922, 0.9922, 0.9922, 0.9922, 0.6980,\n",
      "          0.0000, 0.0000, 0.0000, 0.0000, 0.0000, 0.0000, 0.0000, 0.0000,\n",
      "          0.0000, 0.0000, 0.0000, 0.0000],\n",
      "         [0.0000, 0.0000, 0.0000, 0.0000, 0.0000, 0.0000, 0.0000, 0.0000,\n",
      "          0.1020, 0.4824, 0.9961, 0.9922, 0.7961, 0.6118, 0.9922, 0.7843,\n",
      "          0.0000, 0.0000, 0.0000, 0.0000, 0.0000, 0.0000, 0.0000, 0.0000,\n",
      "          0.0000, 0.0000, 0.0000, 0.0000],\n",
      "         [0.0000, 0.0000, 0.0000, 0.0000, 0.0000, 0.0000, 0.0000, 0.0000,\n",
      "          0.3647, 0.9922, 0.9961, 0.4745, 0.0510, 0.3647, 0.9922, 0.6196,\n",
      "          0.0000, 0.0000, 0.0000, 0.0000, 0.0000, 0.0000, 0.0000, 0.0000,\n",
      "          0.0000, 0.0000, 0.0000, 0.0000],\n",
      "         [0.0000, 0.0000, 0.0000, 0.0000, 0.0000, 0.0000, 0.0000, 0.2510,\n",
      "          0.9373, 0.9922, 0.2980, 0.0314, 0.1255, 0.8588, 0.9922, 0.4941,\n",
      "          0.0000, 0.0000, 0.0000, 0.0000, 0.0000, 0.0000, 0.0000, 0.0000,\n",
      "          0.0000, 0.0000, 0.0000, 0.0000],\n",
      "         [0.0000, 0.0000, 0.0000, 0.0000, 0.0000, 0.0000, 0.0000, 0.5216,\n",
      "          0.9961, 0.7490, 0.0000, 0.0196, 0.4235, 0.9176, 0.9961, 0.4157,\n",
      "          0.0000, 0.0000, 0.0000, 0.0000, 0.0000, 0.0000, 0.0000, 0.0000,\n",
      "          0.0000, 0.0000, 0.0000, 0.0000],\n",
      "         [0.0000, 0.0000, 0.0000, 0.0000, 0.0000, 0.0000, 0.0000, 0.5176,\n",
      "          0.9922, 0.7451, 0.0196, 0.3333, 0.9922, 0.9255, 0.6039, 0.0000,\n",
      "          0.0000, 0.0000, 0.0000, 0.0000, 0.0000, 0.0000, 0.0000, 0.0000,\n",
      "          0.0000, 0.0000, 0.0000, 0.0000],\n",
      "         [0.0000, 0.0000, 0.0000, 0.0000, 0.0000, 0.0000, 0.0000, 0.6000,\n",
      "          0.9922, 0.6627, 0.7529, 0.9922, 0.9922, 0.3020, 0.0000, 0.0000,\n",
      "          0.0000, 0.0000, 0.0000, 0.0000, 0.0000, 0.0000, 0.0000, 0.0000,\n",
      "          0.0000, 0.0000, 0.0000, 0.0000],\n",
      "         [0.0000, 0.0000, 0.0000, 0.0000, 0.0000, 0.0000, 0.0000, 0.4392,\n",
      "          0.9922, 0.9922, 0.9961, 0.9255, 0.5059, 0.0353, 0.0000, 0.0000,\n",
      "          0.0000, 0.0000, 0.0000, 0.0000, 0.0000, 0.0000, 0.0000, 0.0000,\n",
      "          0.0000, 0.0000, 0.0000, 0.0000],\n",
      "         [0.0000, 0.0000, 0.0000, 0.0000, 0.0000, 0.0000, 0.0000, 0.0667,\n",
      "          0.4627, 0.9529, 0.7490, 0.4431, 0.0000, 0.0000, 0.0000, 0.0000,\n",
      "          0.0000, 0.0000, 0.0000, 0.0000, 0.0000, 0.0000, 0.0000, 0.0000,\n",
      "          0.0000, 0.0000, 0.0000, 0.0000],\n",
      "         [0.0000, 0.0000, 0.0000, 0.0000, 0.0000, 0.0000, 0.0000, 0.0000,\n",
      "          0.0000, 0.0000, 0.0000, 0.0000, 0.0000, 0.0000, 0.0000, 0.0000,\n",
      "          0.0000, 0.0000, 0.0000, 0.0000, 0.0000, 0.0000, 0.0000, 0.0000,\n",
      "          0.0000, 0.0000, 0.0000, 0.0000],\n",
      "         [0.0000, 0.0000, 0.0000, 0.0000, 0.0000, 0.0000, 0.0000, 0.0000,\n",
      "          0.0000, 0.0000, 0.0000, 0.0000, 0.0000, 0.0000, 0.0000, 0.0000,\n",
      "          0.0000, 0.0000, 0.0000, 0.0000, 0.0000, 0.0000, 0.0000, 0.0000,\n",
      "          0.0000, 0.0000, 0.0000, 0.0000],\n",
      "         [0.0000, 0.0000, 0.0000, 0.0000, 0.0000, 0.0000, 0.0000, 0.0000,\n",
      "          0.0000, 0.0000, 0.0000, 0.0000, 0.0000, 0.0000, 0.0000, 0.0000,\n",
      "          0.0000, 0.0000, 0.0000, 0.0000, 0.0000, 0.0000, 0.0000, 0.0000,\n",
      "          0.0000, 0.0000, 0.0000, 0.0000]]]), 8)\n"
     ]
    }
   ],
   "source": [
    "print(len(train_dataset))\n",
    "print(len(test_dataset))\n",
    "print(train_dataset[17])"
   ]
  },
  {
   "cell_type": "code",
   "execution_count": 44,
   "metadata": {},
   "outputs": [],
   "source": [
    "batch_size = 64\n",
    "train_loader = DataLoader(train_dataset, batch_size=batch_size, shuffle=True, pin_memory=True, num_workers=0)\n",
    "test_loader = DataLoader(test_dataset, batch_size=batch_size, shuffle=False, pin_memory=True, num_workers=0)"
   ]
  },
  {
   "cell_type": "code",
   "execution_count": 45,
   "metadata": {},
   "outputs": [
    {
     "data": {
      "text/plain": [
       "torch.Size([1, 28, 28])"
      ]
     },
     "execution_count": 45,
     "metadata": {},
     "output_type": "execute_result"
    }
   ],
   "source": [
    "train_dataset[0][0].shape"
   ]
  },
  {
   "cell_type": "code",
   "execution_count": 46,
   "metadata": {
    "id": "OpzdWGZ7WCfs"
   },
   "outputs": [
    {
     "name": "stdout",
     "output_type": "stream",
     "text": [
      "num classes: 10\n",
      "input shape: torch.Size([1, 28, 28])\n",
      "num_features: 784\n"
     ]
    }
   ],
   "source": [
    "num_classes = train_dataset.num_classes\n",
    "input_shape = train_dataset[0][0].shape\n",
    "num_features = input_shape[0] * input_shape[1] * input_shape[2]\n",
    "\n",
    "print(f'num classes: {num_classes}')\n",
    "print(f'input shape: {input_shape}')\n",
    "print(f'num_features: {num_features}')"
   ]
  },
  {
   "cell_type": "markdown",
   "metadata": {
    "id": "FXzNKSVEWCfs"
   },
   "source": [
    "## Step 2: Building and Optimizing Your Model for MNIST\n",
    "\n",
    "Your goal in this cell is to build a neural network model that achieves an accuracy of **98% or higher** on the MNIST dataset. To achieve this, you will need to:\n",
    "1. **Define the model architecture**: You can experiment with the number of layers, units in each layer, and other architectural details to optimize your model’s performance.\n",
    "2. **Choose an optimizer**: Test different optimizers (SGD, Adagrad, RMSprop, Adam) and fine-tune their hyperparameters (such as learning rate, momentum, etc.).\n",
    "3. **Search for optimal hyperparameters**: You can use hyperparameter tuning methods such as **Hyperband**, **Random Search**, or **Bayesian Optimization** to find the best hyperparameter values efficiently.\n",
    "\n",
    "### Available Tuning Options\n",
    "\n",
    "- **Hyperband**: Efficiently finds the best hyperparameters by exploring a wide range and narrowing down based on performance.\n",
    "- **Random Search**: Tries a random combination of hyperparameters within defined ranges.\n",
    "- **Bayesian Optimization**: Uses a probabilistic approach to find the best parameters based on past evaluations.\n",
    "\n",
    "### Final Task\n",
    "\n",
    "Once you’ve achieved a model with over **98% accuracy** on the MNIST test set:\n",
    "1. **Print the optimal hyperparameters** for your best-performing model.\n",
    "2. **Build and compile the model** using these optimal parameters.\n",
    "3. **Display the model summary** at the end of the cell.\n",
    "\n",
    "By following this approach, you will gain insights into how different optimizers and model configurations impact performance, ultimately helping you build an effective and efficient model for the MNIST dataset.\n",
    "\n",
    "\n",
    "### if you achieve the threshold before testing all the items above you must continue and interpert the result and the change effect!"
   ]
  },
  {
   "cell_type": "markdown",
   "metadata": {},
   "source": [
    "## Step 3: Training, Evaluating, and Saving Your Model\n",
    "\n",
    "In this part, you will:\n",
    "1. **Train the Model**: Train your model on the MNIST training data for a specified number of epochs. The `fit` function will show the training and validation accuracy/loss at each epoch, allowing you to monitor the model’s progress.\n",
    "   \n",
    "2. **Make Predictions**: Once training is complete, generate predictions on the test data. While not required for accuracy calculation, this can be useful if you want to further analyze the model’s predictions.\n",
    "\n",
    "3. **Evaluate the Model**: Use the `evaluate` function to calculate the model's loss and accuracy on the test set. This will give you an objective measure of the model’s performance. Remember, the goal is to achieve **98% or higher** accuracy.\n",
    "\n",
    "4. **Save the Model**: After achieving satisfactory accuracy, save your model to disk for later use. This allows you to load the trained model in the future without retraining.\n",
    "\n",
    "### Important Notes:\n",
    "- **Training Parameters**: You can adjust the number of epochs or batch size in the `fit` function if needed to reach the required accuracy.\n",
    "- **Model Storage**: The saved model file (`mnist_model.keras`) will store the entire model structure and weights, enabling you to load and use it later without needing to rebuild or retrain.\n",
    "\n",
    "By completing these steps, you will have a fully trained and saved model capable of achieving high accuracy on the MNIST dataset."
   ]
  },
  {
   "cell_type": "markdown",
   "metadata": {},
   "source": [
    "## Steps 2 and 3 combined"
   ]
  },
  {
   "cell_type": "markdown",
   "metadata": {},
   "source": [
    "### Model Definition"
   ]
  },
  {
   "cell_type": "code",
   "execution_count": 47,
   "metadata": {},
   "outputs": [],
   "source": [
    "class FeedForwardNN(nn.Module):\n",
    "    def __init__(self, input_size, hidden_sizes, output_size, activation, l2_penalty):\n",
    "        super(FeedForwardNN, self).__init__()\n",
    "        layers = []\n",
    "        \n",
    "        # Input layer\n",
    "        prev_size = input_size\n",
    "        for hidden_size in hidden_sizes:\n",
    "            layers.append(nn.Linear(prev_size, hidden_size))\n",
    "            if activation == \"ReLU\":\n",
    "                layers.append(nn.ReLU())\n",
    "            elif activation == \"SoftReLU\":\n",
    "                layers.append(nn.Softplus())\n",
    "            prev_size = hidden_size\n",
    "        \n",
    "        # Output layer -> softmax is not applied here -> output is logits\n",
    "        layers.append(nn.Linear(prev_size, output_size))\n",
    "        self.network = nn.Sequential(*layers)\n",
    "        self.l2_penalty = l2_penalty\n",
    "\n",
    "    def forward(self, x):\n",
    "        x = x.view(x.size(0), -1)  # Flatten the input\n",
    "        return self.network(x)\n"
   ]
  },
  {
   "cell_type": "markdown",
   "metadata": {},
   "source": [
    "### Training Loop"
   ]
  },
  {
   "cell_type": "code",
   "execution_count": 48,
   "metadata": {},
   "outputs": [],
   "source": [
    "def train(model, train_loader, optimizer, criterion, device):\n",
    "    model.train()\n",
    "    total_loss = 0\n",
    "    for images, labels in train_loader:\n",
    "        images, labels = images.to(device), labels.to(device)\n",
    "\n",
    "        optimizer.zero_grad()\n",
    "        outputs = model(images)\n",
    "        loss = criterion(outputs, labels)\n",
    "        loss.backward()\n",
    "        optimizer.step()\n",
    "        total_loss += loss.item()\n",
    "    return total_loss / len(train_loader)"
   ]
  },
  {
   "cell_type": "markdown",
   "metadata": {},
   "source": [
    "### Evaluation"
   ]
  },
  {
   "cell_type": "code",
   "execution_count": 49,
   "metadata": {},
   "outputs": [],
   "source": [
    "from sklearn.metrics import accuracy_score\n",
    "\n",
    "def evaluate(model, test_loader, device):\n",
    "    model.eval()\n",
    "    all_preds = []\n",
    "    all_labels = []\n",
    "    with torch.no_grad():\n",
    "        for images, labels in test_loader:\n",
    "            images, labels = images.to(device), labels.to(device)\n",
    "            outputs = model(images)\n",
    "            preds = outputs.argmax(dim=1)\n",
    "            all_preds.extend(preds.cpu().numpy())\n",
    "            all_labels.extend(labels.cpu().numpy())\n",
    "    return accuracy_score(all_labels, all_preds)\n"
   ]
  },
  {
   "cell_type": "markdown",
   "metadata": {},
   "source": [
    "### Parameter Search Space"
   ]
  },
  {
   "cell_type": "code",
   "execution_count": 56,
   "metadata": {},
   "outputs": [],
   "source": [
    "hidden_layers_options = [[128], [256, 128], [512, 256, 128]]\n",
    "activation_options = [\"ReLU\", \"SoftReLU\"]\n",
    "l2_penalty_options = [1e-4, 1e-3, 1e-2]\n",
    "optimizer_options = [\"SGD\", \"Adam\", \"Nesterov\"]\n",
    "learning_rate_options = [1e-2, 1e-3, 1e-4]\n",
    "momentum_options = [0.8, 0.9, 0.95]\n",
    "beta1_options = [0.9, 0.95] # first moment\n",
    "beta2_options = [0.999, 0.98] # second moment\n",
    "batch_size_options = [64, 128, 256]\n"
   ]
  },
  {
   "cell_type": "markdown",
   "metadata": {},
   "source": [
    "### Random Search"
   ]
  },
  {
   "cell_type": "code",
   "execution_count": 55,
   "metadata": {},
   "outputs": [
    {
     "name": "stdout",
     "output_type": "stream",
     "text": [
      "Trial 1/10 with hyperparameters: \n",
      "Hidden Layers: [512, 256, 128], Activation: SoftReLU, L2 Penalty: 0.0001\n",
      "Optimizer: Nesterov, Learning Rate: 0.0001\n",
      "Momentum: 0.8\n",
      "Epoch 1: Loss = 2.316, Accuracy = 0.114\n",
      "Epoch 2: Loss = 2.301, Accuracy = 0.114\n",
      "Epoch 3: Loss = 2.300, Accuracy = 0.114\n",
      "Epoch 4: Loss = 2.299, Accuracy = 0.114\n",
      "Epoch 5: Loss = 2.299, Accuracy = 0.114\n",
      "Epoch 6: Loss = 2.298, Accuracy = 0.114\n",
      "Early stopping triggered at epoch 6\n",
      "Trial 2/10 with hyperparameters: \n",
      "Hidden Layers: [512, 256, 128], Activation: SoftReLU, L2 Penalty: 0.001\n",
      "Optimizer: Adam, Learning Rate: 0.01\n",
      "Beta1: 0.95, Beta2: 0.999\n",
      "Epoch 1: Loss = 0.595, Accuracy = 0.917\n",
      "Epoch 2: Loss = 0.247, Accuracy = 0.926\n",
      "Epoch 3: Loss = 0.234, Accuracy = 0.934\n",
      "Epoch 4: Loss = 0.217, Accuracy = 0.926\n",
      "Epoch 5: Loss = 0.214, Accuracy = 0.924\n",
      "Epoch 6: Loss = 0.212, Accuracy = 0.944\n",
      "Epoch 7: Loss = 0.209, Accuracy = 0.941\n",
      "Epoch 8: Loss = 0.208, Accuracy = 0.944\n",
      "Epoch 9: Loss = 0.206, Accuracy = 0.921\n",
      "Epoch 10: Loss = 0.206, Accuracy = 0.932\n",
      "Epoch 11: Loss = 0.208, Accuracy = 0.946\n",
      "Epoch 12: Loss = 0.205, Accuracy = 0.940\n",
      "Epoch 13: Loss = 0.201, Accuracy = 0.945\n",
      "Epoch 14: Loss = 0.206, Accuracy = 0.929\n",
      "Epoch 15: Loss = 0.203, Accuracy = 0.945\n",
      "Epoch 16: Loss = 0.200, Accuracy = 0.938\n",
      "Early stopping triggered at epoch 16\n",
      "Trial 3/10 with hyperparameters: \n",
      "Hidden Layers: [128], Activation: SoftReLU, L2 Penalty: 0.0001\n",
      "Optimizer: Nesterov, Learning Rate: 0.01\n",
      "Momentum: 0.95\n",
      "Epoch 1: Loss = 0.466, Accuracy = 0.919\n",
      "Epoch 2: Loss = 0.246, Accuracy = 0.939\n",
      "Epoch 3: Loss = 0.185, Accuracy = 0.954\n",
      "Epoch 4: Loss = 0.149, Accuracy = 0.958\n",
      "Epoch 5: Loss = 0.127, Accuracy = 0.961\n",
      "Epoch 6: Loss = 0.109, Accuracy = 0.967\n",
      "Epoch 7: Loss = 0.095, Accuracy = 0.968\n",
      "Epoch 8: Loss = 0.086, Accuracy = 0.970\n",
      "Epoch 9: Loss = 0.078, Accuracy = 0.971\n",
      "Epoch 10: Loss = 0.071, Accuracy = 0.972\n",
      "Epoch 11: Loss = 0.066, Accuracy = 0.973\n",
      "Epoch 12: Loss = 0.061, Accuracy = 0.972\n",
      "Epoch 13: Loss = 0.057, Accuracy = 0.974\n",
      "Epoch 14: Loss = 0.053, Accuracy = 0.974\n",
      "Epoch 15: Loss = 0.050, Accuracy = 0.976\n",
      "Epoch 16: Loss = 0.047, Accuracy = 0.976\n",
      "Epoch 17: Loss = 0.044, Accuracy = 0.976\n",
      "Epoch 18: Loss = 0.042, Accuracy = 0.976\n",
      "Epoch 19: Loss = 0.040, Accuracy = 0.974\n",
      "Epoch 20: Loss = 0.037, Accuracy = 0.977\n",
      "Trial 4/10 with hyperparameters: \n",
      "Hidden Layers: [512, 256, 128], Activation: SoftReLU, L2 Penalty: 0.001\n",
      "Optimizer: SGD, Learning Rate: 0.001\n",
      "Epoch 1: Loss = 2.304, Accuracy = 0.114\n",
      "Epoch 2: Loss = 2.299, Accuracy = 0.114\n",
      "Epoch 3: Loss = 2.297, Accuracy = 0.114\n",
      "Epoch 4: Loss = 2.296, Accuracy = 0.114\n",
      "Epoch 5: Loss = 2.294, Accuracy = 0.200\n",
      "Epoch 6: Loss = 2.293, Accuracy = 0.116\n",
      "Epoch 7: Loss = 2.291, Accuracy = 0.114\n",
      "Epoch 8: Loss = 2.289, Accuracy = 0.114\n",
      "Epoch 9: Loss = 2.287, Accuracy = 0.139\n",
      "Epoch 10: Loss = 2.284, Accuracy = 0.114\n",
      "Early stopping triggered at epoch 10\n",
      "Trial 5/10 with hyperparameters: \n",
      "Hidden Layers: [128], Activation: ReLU, L2 Penalty: 0.0001\n",
      "Optimizer: SGD, Learning Rate: 0.0001\n",
      "Epoch 1: Loss = 2.298, Accuracy = 0.095\n",
      "Epoch 2: Loss = 2.283, Accuracy = 0.140\n",
      "Epoch 3: Loss = 2.269, Accuracy = 0.198\n",
      "Epoch 4: Loss = 2.254, Accuracy = 0.252\n",
      "Epoch 5: Loss = 2.239, Accuracy = 0.303\n",
      "Epoch 6: Loss = 2.224, Accuracy = 0.354\n",
      "Epoch 7: Loss = 2.207, Accuracy = 0.406\n",
      "Epoch 8: Loss = 2.191, Accuracy = 0.451\n",
      "Epoch 9: Loss = 2.173, Accuracy = 0.485\n",
      "Epoch 10: Loss = 2.154, Accuracy = 0.515\n",
      "Epoch 11: Loss = 2.135, Accuracy = 0.539\n",
      "Epoch 12: Loss = 2.115, Accuracy = 0.563\n",
      "Epoch 13: Loss = 2.094, Accuracy = 0.583\n",
      "Epoch 14: Loss = 2.072, Accuracy = 0.601\n",
      "Epoch 15: Loss = 2.049, Accuracy = 0.618\n",
      "Epoch 16: Loss = 2.025, Accuracy = 0.630\n",
      "Epoch 17: Loss = 2.000, Accuracy = 0.645\n",
      "Epoch 18: Loss = 1.975, Accuracy = 0.656\n",
      "Epoch 19: Loss = 1.948, Accuracy = 0.665\n",
      "Epoch 20: Loss = 1.921, Accuracy = 0.673\n",
      "Trial 6/10 with hyperparameters: \n",
      "Hidden Layers: [256, 128], Activation: SoftReLU, L2 Penalty: 0.001\n",
      "Optimizer: Nesterov, Learning Rate: 0.01\n",
      "Momentum: 0.8\n",
      "Epoch 1: Loss = 1.047, Accuracy = 0.852\n",
      "Epoch 2: Loss = 0.363, Accuracy = 0.910\n",
      "Epoch 3: Loss = 0.320, Accuracy = 0.913\n",
      "Epoch 4: Loss = 0.295, Accuracy = 0.915\n",
      "Epoch 5: Loss = 0.273, Accuracy = 0.918\n",
      "Epoch 6: Loss = 0.254, Accuracy = 0.929\n",
      "Epoch 7: Loss = 0.233, Accuracy = 0.933\n",
      "Epoch 8: Loss = 0.214, Accuracy = 0.942\n",
      "Epoch 9: Loss = 0.197, Accuracy = 0.941\n",
      "Epoch 10: Loss = 0.183, Accuracy = 0.949\n",
      "Epoch 11: Loss = 0.172, Accuracy = 0.951\n",
      "Epoch 12: Loss = 0.161, Accuracy = 0.951\n",
      "Epoch 13: Loss = 0.153, Accuracy = 0.956\n",
      "Epoch 14: Loss = 0.145, Accuracy = 0.957\n",
      "Epoch 15: Loss = 0.139, Accuracy = 0.959\n",
      "Epoch 16: Loss = 0.134, Accuracy = 0.958\n",
      "Epoch 17: Loss = 0.129, Accuracy = 0.962\n",
      "Epoch 18: Loss = 0.125, Accuracy = 0.962\n",
      "Epoch 19: Loss = 0.121, Accuracy = 0.963\n",
      "Epoch 20: Loss = 0.118, Accuracy = 0.962\n",
      "Trial 7/10 with hyperparameters: \n",
      "Hidden Layers: [256, 128], Activation: SoftReLU, L2 Penalty: 0.01\n",
      "Optimizer: SGD, Learning Rate: 0.01\n",
      "Epoch 1: Loss = 2.217, Accuracy = 0.483\n",
      "Epoch 2: Loss = 1.375, Accuracy = 0.774\n",
      "Epoch 3: Loss = 0.672, Accuracy = 0.827\n",
      "Epoch 4: Loss = 0.513, Accuracy = 0.861\n",
      "Epoch 5: Loss = 0.455, Accuracy = 0.873\n",
      "Epoch 6: Loss = 0.426, Accuracy = 0.886\n",
      "Epoch 7: Loss = 0.408, Accuracy = 0.895\n",
      "Epoch 8: Loss = 0.397, Accuracy = 0.897\n",
      "Epoch 9: Loss = 0.388, Accuracy = 0.895\n",
      "Epoch 10: Loss = 0.382, Accuracy = 0.898\n",
      "Epoch 11: Loss = 0.377, Accuracy = 0.898\n",
      "Epoch 12: Loss = 0.374, Accuracy = 0.898\n",
      "Epoch 13: Loss = 0.370, Accuracy = 0.888\n",
      "Epoch 14: Loss = 0.368, Accuracy = 0.903\n",
      "Epoch 15: Loss = 0.366, Accuracy = 0.900\n",
      "Epoch 16: Loss = 0.364, Accuracy = 0.903\n",
      "Epoch 17: Loss = 0.362, Accuracy = 0.899\n",
      "Epoch 18: Loss = 0.361, Accuracy = 0.900\n",
      "Epoch 19: Loss = 0.360, Accuracy = 0.894\n",
      "Early stopping triggered at epoch 19\n",
      "Trial 8/10 with hyperparameters: \n",
      "Hidden Layers: [128], Activation: SoftReLU, L2 Penalty: 0.01\n",
      "Optimizer: SGD, Learning Rate: 0.001\n",
      "Epoch 1: Loss = 2.257, Accuracy = 0.443\n",
      "Epoch 2: Loss = 2.147, Accuracy = 0.624\n",
      "Epoch 3: Loss = 2.025, Accuracy = 0.674\n",
      "Epoch 4: Loss = 1.876, Accuracy = 0.689\n",
      "Epoch 5: Loss = 1.699, Accuracy = 0.726\n",
      "Epoch 6: Loss = 1.507, Accuracy = 0.753\n",
      "Epoch 7: Loss = 1.323, Accuracy = 0.776\n",
      "Epoch 8: Loss = 1.163, Accuracy = 0.793\n",
      "Epoch 9: Loss = 1.034, Accuracy = 0.802\n",
      "Epoch 10: Loss = 0.932, Accuracy = 0.818\n",
      "Epoch 11: Loss = 0.852, Accuracy = 0.828\n",
      "Epoch 12: Loss = 0.788, Accuracy = 0.838\n",
      "Epoch 13: Loss = 0.737, Accuracy = 0.846\n",
      "Epoch 14: Loss = 0.696, Accuracy = 0.851\n",
      "Epoch 15: Loss = 0.661, Accuracy = 0.855\n",
      "Epoch 16: Loss = 0.632, Accuracy = 0.859\n",
      "Epoch 17: Loss = 0.608, Accuracy = 0.863\n",
      "Epoch 18: Loss = 0.587, Accuracy = 0.866\n",
      "Epoch 19: Loss = 0.568, Accuracy = 0.870\n",
      "Epoch 20: Loss = 0.552, Accuracy = 0.873\n",
      "Trial 9/10 with hyperparameters: \n",
      "Hidden Layers: [128], Activation: SoftReLU, L2 Penalty: 0.0001\n",
      "Optimizer: SGD, Learning Rate: 0.001\n",
      "Epoch 1: Loss = 2.255, Accuracy = 0.446\n",
      "Epoch 2: Loss = 2.143, Accuracy = 0.581\n",
      "Epoch 3: Loss = 2.018, Accuracy = 0.685\n",
      "Epoch 4: Loss = 1.863, Accuracy = 0.694\n",
      "Epoch 5: Loss = 1.679, Accuracy = 0.725\n",
      "Epoch 6: Loss = 1.480, Accuracy = 0.765\n",
      "Epoch 7: Loss = 1.289, Accuracy = 0.778\n",
      "Epoch 8: Loss = 1.123, Accuracy = 0.793\n",
      "Epoch 9: Loss = 0.990, Accuracy = 0.814\n",
      "Epoch 10: Loss = 0.886, Accuracy = 0.826\n",
      "Epoch 11: Loss = 0.805, Accuracy = 0.835\n",
      "Epoch 12: Loss = 0.741, Accuracy = 0.845\n",
      "Epoch 13: Loss = 0.690, Accuracy = 0.849\n",
      "Epoch 14: Loss = 0.649, Accuracy = 0.854\n",
      "Epoch 15: Loss = 0.615, Accuracy = 0.858\n",
      "Epoch 16: Loss = 0.586, Accuracy = 0.863\n",
      "Epoch 17: Loss = 0.562, Accuracy = 0.866\n",
      "Epoch 18: Loss = 0.541, Accuracy = 0.869\n",
      "Epoch 19: Loss = 0.523, Accuracy = 0.873\n",
      "Epoch 20: Loss = 0.507, Accuracy = 0.875\n",
      "Trial 10/10 with hyperparameters: \n",
      "Hidden Layers: [128], Activation: SoftReLU, L2 Penalty: 0.001\n",
      "Optimizer: Adam, Learning Rate: 0.001\n",
      "Beta1: 0.95, Beta2: 0.999\n",
      "Epoch 1: Loss = 0.417, Accuracy = 0.927\n",
      "Epoch 2: Loss = 0.251, Accuracy = 0.939\n",
      "Epoch 3: Loss = 0.208, Accuracy = 0.951\n",
      "Epoch 4: Loss = 0.183, Accuracy = 0.953\n",
      "Epoch 5: Loss = 0.166, Accuracy = 0.958\n",
      "Epoch 6: Loss = 0.153, Accuracy = 0.959\n",
      "Epoch 7: Loss = 0.144, Accuracy = 0.959\n",
      "Epoch 8: Loss = 0.138, Accuracy = 0.959\n",
      "Epoch 9: Loss = 0.132, Accuracy = 0.964\n",
      "Epoch 10: Loss = 0.127, Accuracy = 0.965\n",
      "Epoch 11: Loss = 0.123, Accuracy = 0.963\n",
      "Epoch 12: Loss = 0.121, Accuracy = 0.966\n",
      "Epoch 13: Loss = 0.119, Accuracy = 0.967\n",
      "Epoch 14: Loss = 0.117, Accuracy = 0.966\n",
      "Epoch 15: Loss = 0.115, Accuracy = 0.968\n",
      "Epoch 16: Loss = 0.113, Accuracy = 0.965\n",
      "Epoch 17: Loss = 0.111, Accuracy = 0.963\n",
      "Epoch 18: Loss = 0.110, Accuracy = 0.970\n",
      "Epoch 19: Loss = 0.109, Accuracy = 0.972\n",
      "Epoch 20: Loss = 0.107, Accuracy = 0.969\n",
      "Best Hyperparameters:\n",
      "{'hidden_layers': [128], 'activation': 'SoftReLU', 'l2_penalty': 0.0001, 'optimizer': 'Nesterov', 'learning_rate': 0.01, 'momentum': 0.95}\n",
      "Best Accuracy: 0.977\n"
     ]
    }
   ],
   "source": [
    "import os\n",
    "import random\n",
    "import torch\n",
    "\n",
    "# Ensure the folder \"random\" exists\n",
    "os.makedirs(\"random\", exist_ok=True)\n",
    "\n",
    "# Device setup\n",
    "device = torch.device(\"cuda\" if torch.cuda.is_available() else \"cpu\")\n",
    "input_size = 28 * 28\n",
    "output_size = 10\n",
    "num_trials = 10  # Number of random trials\n",
    "batch_size = 64\n",
    "num_epochs = 20\n",
    "early_stopping_patience = 5  # Stop training if no improvement for this many epochs\n",
    "\n",
    "best_model = None\n",
    "best_accuracy = 0\n",
    "best_hyperparams = {}\n",
    "\n",
    "for trial in range(num_trials):\n",
    "    # Randomly sample hyperparameters\n",
    "    hidden_layers = random.choice(hidden_layers_options)\n",
    "    activation = random.choice(activation_options)\n",
    "    l2_penalty = random.choice(l2_penalty_options)\n",
    "    optimizer_type = random.choice(optimizer_options)\n",
    "    learning_rate = random.choice(learning_rate_options)\n",
    "    \n",
    "    # Special hyperparameters for optimizers\n",
    "    if optimizer_type == \"Nesterov\":\n",
    "        momentum = random.choice(momentum_options)\n",
    "    elif optimizer_type == \"Adam\":\n",
    "        beta1 = random.choice(beta1_options)\n",
    "        beta2 = random.choice(beta2_options)\n",
    "    \n",
    "    # Initialize model\n",
    "    model = FeedForwardNN(input_size, hidden_layers, output_size, activation, l2_penalty).to(device)\n",
    "    \n",
    "    # Loss function\n",
    "    criterion = nn.CrossEntropyLoss() # softmax is implicitly applied here\n",
    "    \n",
    "    # Optimizer\n",
    "    if optimizer_type == \"SGD\":\n",
    "        optimizer = optim.SGD(model.parameters(), lr=learning_rate, weight_decay=l2_penalty)\n",
    "    elif optimizer_type == \"Adam\":\n",
    "        optimizer = optim.Adam(model.parameters(), lr=learning_rate, betas=(beta1, beta2), weight_decay=l2_penalty)\n",
    "    elif optimizer_type == \"Nesterov\":\n",
    "        optimizer = optim.SGD(model.parameters(), lr=learning_rate, momentum=momentum, nesterov=True, weight_decay=l2_penalty)\n",
    "    \n",
    "    # Train and evaluate\n",
    "    print(f\"Trial {trial + 1}/{num_trials} with hyperparameters: \")\n",
    "    print(f\"Hidden Layers: {hidden_layers}, Activation: {activation}, L2 Penalty: {l2_penalty}\")\n",
    "    print(f\"Optimizer: {optimizer_type}, Learning Rate: {learning_rate}\")\n",
    "    if optimizer_type == \"Nesterov\":\n",
    "        print(f\"Momentum: {momentum}\")\n",
    "    elif optimizer_type == \"Adam\":\n",
    "        print(f\"Beta1: {beta1}, Beta2: {beta2}\")\n",
    "    \n",
    "    trial_best_model = None\n",
    "    trial_best_accuracy = 0\n",
    "    epochs_no_improve = 0  # Track epochs without improvement\n",
    "\n",
    "    for epoch in range(num_epochs): \n",
    "        train_loss = train(model, train_loader, optimizer, criterion, device)\n",
    "        accuracy = evaluate(model, test_loader, device)\n",
    "        print(f\"Epoch {epoch + 1}: Loss = {train_loss:.3f}, Accuracy = {accuracy:.3f}\")\n",
    "        \n",
    "        if accuracy > trial_best_accuracy:\n",
    "            trial_best_accuracy = accuracy\n",
    "            trial_best_model = model.state_dict()\n",
    "            epochs_no_improve = 0  # Reset counter if improvement is found\n",
    "        else:\n",
    "            epochs_no_improve += 1\n",
    "        \n",
    "        # Check early stopping condition\n",
    "        if epochs_no_improve >= early_stopping_patience:\n",
    "            print(f\"Early stopping triggered at epoch {epoch + 1}\")\n",
    "            break\n",
    "\n",
    "    # Save the best model for this trial in the \"random\" folder\n",
    "    torch.save(trial_best_model, f\"random/best_model_trial_{trial + 1}.pth\")\n",
    "    \n",
    "    # Update global best model if accuracy improves\n",
    "    if trial_best_accuracy > best_accuracy:\n",
    "        best_accuracy = trial_best_accuracy\n",
    "        best_model = model\n",
    "        best_hyperparams = {\n",
    "            \"hidden_layers\": hidden_layers,\n",
    "            \"activation\": activation,\n",
    "            \"l2_penalty\": l2_penalty,\n",
    "            \"optimizer\": optimizer_type,\n",
    "            \"learning_rate\": learning_rate\n",
    "        }\n",
    "        if optimizer_type == \"Nesterov\":\n",
    "            best_hyperparams[\"momentum\"] = momentum\n",
    "        elif optimizer_type == \"Adam\":\n",
    "            best_hyperparams[\"beta1\"] = beta1\n",
    "            best_hyperparams[\"beta2\"] = beta2\n",
    "\n",
    "print(\"Best Hyperparameters:\")\n",
    "print(best_hyperparams)\n",
    "print(f\"Best Accuracy: {best_accuracy:.3f}\")\n"
   ]
  },
  {
   "cell_type": "code",
   "execution_count": 60,
   "metadata": {},
   "outputs": [
    {
     "name": "stdout",
     "output_type": "stream",
     "text": [
      "0.98\n"
     ]
    }
   ],
   "source": [
    "model = FeedForwardNN(input_size=28*28, hidden_sizes=[128], output_size=10, activation='SoftReLU', l2_penalty=0.0001)\n",
    "model.to(device)\n",
    "\n",
    "# Step 2: Load the saved state_dict\n",
    "model.load_state_dict(torch.load(\"random/best_model_trial_3.pth\"))\n",
    "\n",
    "# Step 3: Switch to evaluation mode\n",
    "accuracy = evaluate(model, test_loader, device)\n",
    "print(f'{accuracy:.2f}')"
   ]
  },
  {
   "cell_type": "markdown",
   "metadata": {},
   "source": [
    "### Hyperband Searach"
   ]
  },
  {
   "cell_type": "code",
   "execution_count": 76,
   "metadata": {},
   "outputs": [
    {
     "name": "stderr",
     "output_type": "stream",
     "text": [
      "[I 2024-12-17 01:02:47,782] A new study created in memory with name: no-name-7840e96a-3665-46c8-a382-98811342b7c5\n"
     ]
    },
    {
     "name": "stdout",
     "output_type": "stream",
     "text": [
      "\n",
      "[Trial 0] Starting with hyperparameters: {'hidden_layers': '512,256,128', 'activation': 'SoftReLU', 'l2_penalty': 0.00043486787507593605, 'learning_rate': 0.005378765766010409, 'batch_size': 64, 'optimizer': 'Adam', 'beta1': 0.8487101483839954, 'beta2': 0.9160898422377741}\n",
      "[Trial 0] Epoch 1/10 - Loss: 0.370, Accuracy: 0.931\n",
      "[Trial 0] Epoch 2/10 - Loss: 0.178, Accuracy: 0.950\n",
      "[Trial 0] Epoch 3/10 - Loss: 0.157, Accuracy: 0.939\n",
      "[Trial 0] Epoch 4/10 - Loss: 0.147, Accuracy: 0.961\n",
      "[Trial 0] Epoch 5/10 - Loss: 0.139, Accuracy: 0.965\n",
      "[Trial 0] Epoch 6/10 - Loss: 0.136, Accuracy: 0.959\n",
      "[Trial 0] Epoch 7/10 - Loss: 0.133, Accuracy: 0.951\n",
      "[Trial 0] Epoch 8/10 - Loss: 0.133, Accuracy: 0.964\n",
      "[Trial 0] Epoch 9/10 - Loss: 0.130, Accuracy: 0.963\n"
     ]
    },
    {
     "name": "stderr",
     "output_type": "stream",
     "text": [
      "[I 2024-12-17 01:05:21,457] Trial 0 finished with value: 0.965 and parameters: {'hidden_layers': '512,256,128', 'activation': 'SoftReLU', 'l2_penalty': 0.00043486787507593605, 'learning_rate': 0.005378765766010409, 'batch_size': 64, 'optimizer': 'Adam', 'beta1': 0.8487101483839954, 'beta2': 0.9160898422377741}. Best is trial 0 with value: 0.965.\n"
     ]
    },
    {
     "name": "stdout",
     "output_type": "stream",
     "text": [
      "[Trial 0] Epoch 10/10 - Loss: 0.128, Accuracy: 0.964\n",
      "\n",
      "[Trial 1] Starting with hyperparameters: {'hidden_layers': '256,128', 'activation': 'ReLU', 'l2_penalty': 0.004853027050206932, 'learning_rate': 0.002623468246057754, 'batch_size': 64, 'optimizer': 'Nesterov', 'momentum': 0.8206381930915831}\n",
      "[Trial 1] Epoch 1/10 - Loss: 1.408, Accuracy: 0.852\n"
     ]
    },
    {
     "name": "stderr",
     "output_type": "stream",
     "text": [
      "[I 2024-12-17 01:05:45,777] Trial 1 pruned. \n"
     ]
    },
    {
     "name": "stdout",
     "output_type": "stream",
     "text": [
      "[Trial 1] Epoch 2/10 - Loss: 0.456, Accuracy: 0.895\n",
      "\n",
      "[Trial 2] Starting with hyperparameters: {'hidden_layers': '512,256,128', 'activation': 'SoftReLU', 'l2_penalty': 3.7223519343745444e-05, 'learning_rate': 0.0023480615144601947, 'batch_size': 64, 'optimizer': 'Adam', 'beta1': 0.955891320442451, 'beta2': 0.9973131346221021}\n",
      "[Trial 2] Epoch 1/10 - Loss: 0.311, Accuracy: 0.958\n",
      "[Trial 2] Epoch 2/10 - Loss: 0.117, Accuracy: 0.969\n",
      "[Trial 2] Epoch 3/10 - Loss: 0.083, Accuracy: 0.973\n",
      "[Trial 2] Epoch 4/10 - Loss: 0.067, Accuracy: 0.976\n",
      "[Trial 2] Epoch 5/10 - Loss: 0.059, Accuracy: 0.980\n",
      "[Trial 2] Epoch 6/10 - Loss: 0.050, Accuracy: 0.975\n",
      "[Trial 2] Epoch 7/10 - Loss: 0.044, Accuracy: 0.978\n",
      "[Trial 2] Epoch 8/10 - Loss: 0.039, Accuracy: 0.978\n",
      "[Trial 2] Epoch 9/10 - Loss: 0.039, Accuracy: 0.975\n"
     ]
    },
    {
     "name": "stderr",
     "output_type": "stream",
     "text": [
      "[I 2024-12-17 01:08:19,477] Trial 2 finished with value: 0.9797 and parameters: {'hidden_layers': '512,256,128', 'activation': 'SoftReLU', 'l2_penalty': 3.7223519343745444e-05, 'learning_rate': 0.0023480615144601947, 'batch_size': 64, 'optimizer': 'Adam', 'beta1': 0.955891320442451, 'beta2': 0.9973131346221021}. Best is trial 2 with value: 0.9797.\n"
     ]
    },
    {
     "name": "stdout",
     "output_type": "stream",
     "text": [
      "[Trial 2] Epoch 10/10 - Loss: 0.035, Accuracy: 0.978\n",
      "\n",
      "[Trial 3] Starting with hyperparameters: {'hidden_layers': '128', 'activation': 'SoftReLU', 'l2_penalty': 1.8892528443002618e-05, 'learning_rate': 0.0002514325093548061, 'batch_size': 256, 'optimizer': 'SGD'}\n",
      "[Trial 3] Epoch 1/10 - Loss: 2.355, Accuracy: 0.095\n"
     ]
    },
    {
     "name": "stderr",
     "output_type": "stream",
     "text": [
      "[I 2024-12-17 01:08:38,001] Trial 3 pruned. \n"
     ]
    },
    {
     "name": "stdout",
     "output_type": "stream",
     "text": [
      "[Trial 3] Epoch 2/10 - Loss: 2.321, Accuracy: 0.146\n",
      "\n",
      "[Trial 4] Starting with hyperparameters: {'hidden_layers': '256,128', 'activation': 'SoftReLU', 'l2_penalty': 0.0016834400300539318, 'learning_rate': 0.0008767809674118463, 'batch_size': 64, 'optimizer': 'Nesterov', 'momentum': 0.8338449767629854}\n",
      "[Trial 4] Epoch 1/10 - Loss: 2.269, Accuracy: 0.398\n"
     ]
    },
    {
     "name": "stderr",
     "output_type": "stream",
     "text": [
      "[I 2024-12-17 01:09:02,208] Trial 4 pruned. \n"
     ]
    },
    {
     "name": "stdout",
     "output_type": "stream",
     "text": [
      "[Trial 4] Epoch 2/10 - Loss: 2.103, Accuracy: 0.492\n",
      "\n",
      "[Trial 5] Starting with hyperparameters: {'hidden_layers': '512,256,128', 'activation': 'SoftReLU', 'l2_penalty': 3.201468758895439e-05, 'learning_rate': 0.006681191625018689, 'batch_size': 64, 'optimizer': 'Adam', 'beta1': 0.8170682023084801, 'beta2': 0.9812884582929401}\n",
      "[Trial 5] Epoch 1/10 - Loss: 0.322, Accuracy: 0.961\n",
      "[Trial 5] Epoch 2/10 - Loss: 0.129, Accuracy: 0.966\n",
      "[Trial 5] Epoch 3/10 - Loss: 0.104, Accuracy: 0.969\n",
      "[Trial 5] Epoch 4/10 - Loss: 0.094, Accuracy: 0.973\n",
      "[Trial 5] Epoch 5/10 - Loss: 0.088, Accuracy: 0.971\n",
      "[Trial 5] Epoch 6/10 - Loss: 0.083, Accuracy: 0.971\n",
      "[Trial 5] Epoch 7/10 - Loss: 0.083, Accuracy: 0.969\n",
      "[Trial 5] Epoch 8/10 - Loss: 0.078, Accuracy: 0.968\n",
      "[Trial 5] Epoch 9/10 - Loss: 0.080, Accuracy: 0.970\n"
     ]
    },
    {
     "name": "stderr",
     "output_type": "stream",
     "text": [
      "[I 2024-12-17 01:11:34,114] Trial 5 finished with value: 0.9725 and parameters: {'hidden_layers': '512,256,128', 'activation': 'SoftReLU', 'l2_penalty': 3.201468758895439e-05, 'learning_rate': 0.006681191625018689, 'batch_size': 64, 'optimizer': 'Adam', 'beta1': 0.8170682023084801, 'beta2': 0.9812884582929401}. Best is trial 2 with value: 0.9797.\n"
     ]
    },
    {
     "name": "stdout",
     "output_type": "stream",
     "text": [
      "[Trial 5] Epoch 10/10 - Loss: 0.078, Accuracy: 0.971\n",
      "\n",
      "[Trial 6] Starting with hyperparameters: {'hidden_layers': '128', 'activation': 'SoftReLU', 'l2_penalty': 0.00015075077368980467, 'learning_rate': 0.0031616000622824566, 'batch_size': 256, 'optimizer': 'Adam', 'beta1': 0.8140712862275107, 'beta2': 0.9807204607832029}\n",
      "[Trial 6] Epoch 1/10 - Loss: 0.400, Accuracy: 0.934\n",
      "[Trial 6] Epoch 2/10 - Loss: 0.191, Accuracy: 0.957\n",
      "[Trial 6] Epoch 3/10 - Loss: 0.136, Accuracy: 0.962\n"
     ]
    },
    {
     "name": "stderr",
     "output_type": "stream",
     "text": [
      "[I 2024-12-17 01:12:12,065] Trial 6 pruned. \n"
     ]
    },
    {
     "name": "stdout",
     "output_type": "stream",
     "text": [
      "[Trial 6] Epoch 4/10 - Loss: 0.106, Accuracy: 0.971\n",
      "\n",
      "[Trial 7] Starting with hyperparameters: {'hidden_layers': '128', 'activation': 'ReLU', 'l2_penalty': 0.0004699877078680514, 'learning_rate': 0.0001424730660861259, 'batch_size': 64, 'optimizer': 'Adam', 'beta1': 0.8792327573389139, 'beta2': 0.998166183264181}\n",
      "[Trial 7] Epoch 1/10 - Loss: 0.744, Accuracy: 0.906\n",
      "[Trial 7] Epoch 2/10 - Loss: 0.332, Accuracy: 0.919\n",
      "[Trial 7] Epoch 3/10 - Loss: 0.283, Accuracy: 0.928\n"
     ]
    },
    {
     "name": "stderr",
     "output_type": "stream",
     "text": [
      "[I 2024-12-17 01:13:01,015] Trial 7 pruned. \n"
     ]
    },
    {
     "name": "stdout",
     "output_type": "stream",
     "text": [
      "[Trial 7] Epoch 4/10 - Loss: 0.252, Accuracy: 0.933\n",
      "\n",
      "[Trial 8] Starting with hyperparameters: {'hidden_layers': '256,128', 'activation': 'SoftReLU', 'l2_penalty': 0.003544223387028624, 'learning_rate': 0.0026219356535575966, 'batch_size': 128, 'optimizer': 'SGD'}\n",
      "[Trial 8] Epoch 1/10 - Loss: 2.296, Accuracy: 0.114\n"
     ]
    },
    {
     "name": "stderr",
     "output_type": "stream",
     "text": [
      "[I 2024-12-17 01:13:20,756] Trial 8 pruned. \n"
     ]
    },
    {
     "name": "stdout",
     "output_type": "stream",
     "text": [
      "[Trial 8] Epoch 2/10 - Loss: 2.279, Accuracy: 0.166\n",
      "\n",
      "[Trial 9] Starting with hyperparameters: {'hidden_layers': '256,128', 'activation': 'SoftReLU', 'l2_penalty': 0.005900629061852579, 'learning_rate': 0.00015963963050695542, 'batch_size': 64, 'optimizer': 'Adam', 'beta1': 0.8436596288625745, 'beta2': 0.9210842630532698}\n",
      "[Trial 9] Epoch 1/10 - Loss: 0.847, Accuracy: 0.901\n"
     ]
    },
    {
     "name": "stderr",
     "output_type": "stream",
     "text": [
      "[I 2024-12-17 01:13:45,178] Trial 9 pruned. \n"
     ]
    },
    {
     "name": "stdout",
     "output_type": "stream",
     "text": [
      "[Trial 9] Epoch 2/10 - Loss: 0.394, Accuracy: 0.900\n",
      "Best trial number: 2\n",
      "Best accuracy: 0.980\n",
      "Best parameters:\n",
      "{'hidden_layers': '512,256,128', 'activation': 'SoftReLU', 'l2_penalty': 3.7223519343745444e-05, 'learning_rate': 0.0023480615144601947, 'batch_size': 64, 'optimizer': 'Adam', 'beta1': 0.955891320442451, 'beta2': 0.9973131346221021}\n"
     ]
    }
   ],
   "source": [
    "# Single-cell implementation for Optuna Hyperband Search with Batch Size\n",
    "import optuna\n",
    "from optuna.pruners import HyperbandPruner\n",
    "from torch.utils.data import DataLoader\n",
    "import os\n",
    "import torch\n",
    "\n",
    "# Ensure folder exists to save models\n",
    "os.makedirs(\"hyperband_models\", exist_ok=True)\n",
    "\n",
    "device = torch.device(\"cuda\" if torch.cuda.is_available() else \"cpu\")\n",
    "input_size = 28 * 28\n",
    "output_size = 10\n",
    "num_epochs = 10  # Adjust as needed\n",
    "\n",
    "# Objective function for Optuna\n",
    "def objective(trial):\n",
    "    # Hyperparameter search space\n",
    "    hidden_layers_str = trial.suggest_categorical(\n",
    "        \"hidden_layers\", [\"128\", \"256,128\", \"512,256,128\"]\n",
    "    )\n",
    "    hidden_layers = tuple(map(int, hidden_layers_str.split(',')))\n",
    "    activation = trial.suggest_categorical(\"activation\", [\"ReLU\", \"SoftReLU\"])\n",
    "    l2_penalty = trial.suggest_float(\"l2_penalty\", 1e-5, 1e-2, log=True)\n",
    "    learning_rate = trial.suggest_float(\"learning_rate\", 1e-4, 1e-2, log=True)\n",
    "    batch_size = trial.suggest_categorical(\"batch_size\", [64, 128, 256])\n",
    "    optimizer_type = trial.suggest_categorical(\"optimizer\", [\"SGD\", \"Adam\", \"Nesterov\"])\n",
    "\n",
    "    # Additional optimizer-specific parameters\n",
    "    if optimizer_type == \"Nesterov\":\n",
    "        momentum = trial.suggest_float(\"momentum\", 0.8, 0.99)\n",
    "    elif optimizer_type == \"Adam\":\n",
    "        beta1 = trial.suggest_float(\"beta1\", 0.8, 0.99)\n",
    "        beta2 = trial.suggest_float(\"beta2\", 0.9, 0.999)\n",
    "\n",
    "    # Define data loaders with the sampled batch size\n",
    "    train_loader = DataLoader(\n",
    "        train_dataset, batch_size=batch_size, shuffle=True, pin_memory=True, num_workers=0\n",
    "    )\n",
    "    test_loader = DataLoader(\n",
    "        test_dataset, batch_size=batch_size, shuffle=False, pin_memory=True, num_workers=0\n",
    "    )\n",
    "    print(f\"\\n[Trial {trial.number}] Starting with hyperparameters: {trial.params}\")\n",
    "\n",
    "\n",
    "    # Define the model\n",
    "    model = FeedForwardNN(input_size, hidden_layers, output_size, activation, l2_penalty).to(device)\n",
    "\n",
    "    # Loss function\n",
    "    criterion = nn.CrossEntropyLoss()\n",
    "\n",
    "    # Optimizer setup\n",
    "    if optimizer_type == \"SGD\":\n",
    "        optimizer = torch.optim.SGD(model.parameters(), lr=learning_rate, weight_decay=l2_penalty)\n",
    "    elif optimizer_type == \"Adam\":\n",
    "        optimizer = torch.optim.Adam(\n",
    "            model.parameters(),\n",
    "            lr=learning_rate,\n",
    "            betas=(beta1, beta2),\n",
    "            weight_decay=l2_penalty,\n",
    "        )\n",
    "    elif optimizer_type == \"Nesterov\":\n",
    "        optimizer = torch.optim.SGD(\n",
    "            model.parameters(),\n",
    "            lr=learning_rate,\n",
    "            momentum=momentum,\n",
    "            nesterov=True,\n",
    "            weight_decay=l2_penalty,\n",
    "        )\n",
    "\n",
    "    # Training and evaluation\n",
    "    best_accuracy = 0\n",
    "    for epoch in range(num_epochs):\n",
    "        train_loss = train(model, train_loader, optimizer, criterion, device)\n",
    "        accuracy = evaluate(model, test_loader, device)\n",
    "        print(f\"[Trial {trial.number}] Epoch {epoch + 1}/{num_epochs} - Loss: {train_loss:.3f}, Accuracy: {accuracy:.3f}\")\n",
    "        # Save the best model of the current trial\n",
    "        if accuracy > best_accuracy:\n",
    "            best_accuracy = accuracy\n",
    "            torch.save(\n",
    "                {\n",
    "                    \"model_state_dict\": model.state_dict(),\n",
    "                    \"trial_params\": trial.params,\n",
    "                },\n",
    "                f\"hyperband_models/best_model_trial_{trial.number}.pth\",\n",
    "            )\n",
    "        # Early stopping if necessary\n",
    "        trial.report(best_accuracy, epoch)\n",
    "        if trial.should_prune():\n",
    "            raise optuna.exceptions.TrialPruned()\n",
    "\n",
    "    return best_accuracy\n",
    "\n",
    "# Create Optuna study\n",
    "optuna.logging.set_verbosity(optuna.logging.INFO)  # Enable progress logs\n",
    "study = optuna.create_study(\n",
    "    direction=\"maximize\",\n",
    "    pruner=HyperbandPruner(min_resource=1, max_resource=num_epochs),\n",
    ")\n",
    "optuna.logging.set_verbosity(optuna.logging.INFO)\n",
    "study.optimize(objective, n_trials=10)\n",
    "\n",
    "# Save the best trial's model and parameters\n",
    "best_trial = study.best_trial\n",
    "best_model_path = f\"hyperband_models/best_model_trial_{best_trial.number}.pth\"\n",
    "torch.save(\n",
    "    {\n",
    "        \"model_state_dict\": torch.load(best_model_path)[\"model_state_dict\"],\n",
    "        \"best_params\": best_trial.params,\n",
    "    },\n",
    "    \"hyperband_models/best_model_overall.pth\",\n",
    ")\n",
    "\n",
    "print(f\"Best trial number: {best_trial.number}\")\n",
    "print(f\"Best accuracy: {best_trial.value:.3f}\")\n",
    "print(\"Best parameters:\")\n",
    "print(best_trial.params)\n"
   ]
  },
  {
   "cell_type": "markdown",
   "metadata": {},
   "source": [
    "### Bayesian Search"
   ]
  },
  {
   "cell_type": "code",
   "execution_count": 79,
   "metadata": {},
   "outputs": [
    {
     "name": "stderr",
     "output_type": "stream",
     "text": [
      "[I 2024-12-17 01:39:09,879] A new study created in memory with name: no-name-1c06a767-c139-427b-95a3-d4bc7a85823c\n"
     ]
    },
    {
     "name": "stdout",
     "output_type": "stream",
     "text": [
      "\n",
      "[Trial 0] Starting with hyperparameters: {'hidden_layers': '128', 'activation': 'SoftReLU', 'l2_penalty': 2.3601999806301013e-05, 'learning_rate': 0.003956366108873872, 'batch_size': 128, 'optimizer': 'Adam', 'beta1': 0.8287917974530906, 'beta2': 0.9841582580610025}\n",
      "[Trial 0] Epoch 1/10 - Loss: 0.303, Accuracy: 0.951\n",
      "[Trial 0] Epoch 2/10 - Loss: 0.123, Accuracy: 0.972\n",
      "[Trial 0] Epoch 3/10 - Loss: 0.081, Accuracy: 0.973\n",
      "[Trial 0] Epoch 4/10 - Loss: 0.063, Accuracy: 0.979\n",
      "[Trial 0] Epoch 5/10 - Loss: 0.051, Accuracy: 0.979\n",
      "[Trial 0] Epoch 6/10 - Loss: 0.041, Accuracy: 0.977\n",
      "[Trial 0] Epoch 7/10 - Loss: 0.037, Accuracy: 0.978\n",
      "[Trial 0] Epoch 8/10 - Loss: 0.032, Accuracy: 0.979\n",
      "[Trial 0] Epoch 9/10 - Loss: 0.029, Accuracy: 0.978\n"
     ]
    },
    {
     "name": "stderr",
     "output_type": "stream",
     "text": [
      "[I 2024-12-17 01:40:48,976] Trial 0 finished with value: 0.979 and parameters: {'hidden_layers': '128', 'activation': 'SoftReLU', 'l2_penalty': 2.3601999806301013e-05, 'learning_rate': 0.003956366108873872, 'batch_size': 128, 'optimizer': 'Adam', 'beta1': 0.8287917974530906, 'beta2': 0.9841582580610025}. Best is trial 0 with value: 0.979.\n"
     ]
    },
    {
     "name": "stdout",
     "output_type": "stream",
     "text": [
      "[Trial 0] Epoch 10/10 - Loss: 0.028, Accuracy: 0.978\n",
      "\n",
      "[Trial 1] Starting with hyperparameters: {'hidden_layers': '256,128', 'activation': 'ReLU', 'l2_penalty': 0.0008623770314714271, 'learning_rate': 0.0002161588261902346, 'batch_size': 256, 'optimizer': 'Adam', 'beta1': 0.9125919354683123, 'beta2': 0.921182722033879}\n",
      "[Trial 1] Epoch 1/10 - Loss: 0.974, Accuracy: 0.902\n",
      "[Trial 1] Epoch 2/10 - Loss: 0.327, Accuracy: 0.920\n",
      "[Trial 1] Epoch 3/10 - Loss: 0.269, Accuracy: 0.931\n",
      "[Trial 1] Epoch 4/10 - Loss: 0.229, Accuracy: 0.941\n",
      "[Trial 1] Epoch 5/10 - Loss: 0.200, Accuracy: 0.948\n",
      "[Trial 1] Epoch 6/10 - Loss: 0.176, Accuracy: 0.953\n",
      "[Trial 1] Epoch 7/10 - Loss: 0.158, Accuracy: 0.956\n",
      "[Trial 1] Epoch 8/10 - Loss: 0.143, Accuracy: 0.958\n",
      "[Trial 1] Epoch 9/10 - Loss: 0.130, Accuracy: 0.963\n"
     ]
    },
    {
     "name": "stderr",
     "output_type": "stream",
     "text": [
      "[I 2024-12-17 01:42:19,609] Trial 1 finished with value: 0.9649 and parameters: {'hidden_layers': '256,128', 'activation': 'ReLU', 'l2_penalty': 0.0008623770314714271, 'learning_rate': 0.0002161588261902346, 'batch_size': 256, 'optimizer': 'Adam', 'beta1': 0.9125919354683123, 'beta2': 0.921182722033879}. Best is trial 0 with value: 0.979.\n"
     ]
    },
    {
     "name": "stdout",
     "output_type": "stream",
     "text": [
      "[Trial 1] Epoch 10/10 - Loss: 0.120, Accuracy: 0.965\n",
      "\n",
      "[Trial 2] Starting with hyperparameters: {'hidden_layers': '128', 'activation': 'ReLU', 'l2_penalty': 0.00016360431310007722, 'learning_rate': 0.006889535682037065, 'batch_size': 128, 'optimizer': 'Nesterov', 'momentum': 0.8744037395457188}\n",
      "[Trial 2] Epoch 1/10 - Loss: 0.782, Accuracy: 0.902\n",
      "[Trial 2] Epoch 2/10 - Loss: 0.345, Accuracy: 0.916\n",
      "[Trial 2] Epoch 3/10 - Loss: 0.296, Accuracy: 0.925\n",
      "[Trial 2] Epoch 4/10 - Loss: 0.265, Accuracy: 0.930\n",
      "[Trial 2] Epoch 5/10 - Loss: 0.240, Accuracy: 0.938\n",
      "[Trial 2] Epoch 6/10 - Loss: 0.219, Accuracy: 0.942\n",
      "[Trial 2] Epoch 7/10 - Loss: 0.201, Accuracy: 0.945\n",
      "[Trial 2] Epoch 8/10 - Loss: 0.186, Accuracy: 0.949\n",
      "[Trial 2] Epoch 9/10 - Loss: 0.173, Accuracy: 0.953\n"
     ]
    },
    {
     "name": "stderr",
     "output_type": "stream",
     "text": [
      "[I 2024-12-17 01:43:54,565] Trial 2 finished with value: 0.9542 and parameters: {'hidden_layers': '128', 'activation': 'ReLU', 'l2_penalty': 0.00016360431310007722, 'learning_rate': 0.006889535682037065, 'batch_size': 128, 'optimizer': 'Nesterov', 'momentum': 0.8744037395457188}. Best is trial 0 with value: 0.979.\n"
     ]
    },
    {
     "name": "stdout",
     "output_type": "stream",
     "text": [
      "[Trial 2] Epoch 10/10 - Loss: 0.161, Accuracy: 0.954\n",
      "\n",
      "[Trial 3] Starting with hyperparameters: {'hidden_layers': '512,256,128', 'activation': 'SoftReLU', 'l2_penalty': 0.00022111462227589779, 'learning_rate': 0.006556398582018245, 'batch_size': 64, 'optimizer': 'SGD'}\n",
      "[Trial 3] Epoch 1/10 - Loss: 2.299, Accuracy: 0.198\n",
      "[Trial 3] Epoch 2/10 - Loss: 2.286, Accuracy: 0.103\n",
      "[Trial 3] Epoch 3/10 - Loss: 2.250, Accuracy: 0.246\n",
      "[Trial 3] Epoch 4/10 - Loss: 1.840, Accuracy: 0.562\n",
      "[Trial 3] Epoch 5/10 - Loss: 1.034, Accuracy: 0.682\n",
      "[Trial 3] Epoch 6/10 - Loss: 0.711, Accuracy: 0.794\n",
      "[Trial 3] Epoch 7/10 - Loss: 0.571, Accuracy: 0.826\n",
      "[Trial 3] Epoch 8/10 - Loss: 0.482, Accuracy: 0.875\n",
      "[Trial 3] Epoch 9/10 - Loss: 0.433, Accuracy: 0.872\n"
     ]
    },
    {
     "name": "stderr",
     "output_type": "stream",
     "text": [
      "[I 2024-12-17 01:45:57,026] Trial 3 finished with value: 0.8825 and parameters: {'hidden_layers': '512,256,128', 'activation': 'SoftReLU', 'l2_penalty': 0.00022111462227589779, 'learning_rate': 0.006556398582018245, 'batch_size': 64, 'optimizer': 'SGD'}. Best is trial 0 with value: 0.979.\n"
     ]
    },
    {
     "name": "stdout",
     "output_type": "stream",
     "text": [
      "[Trial 3] Epoch 10/10 - Loss: 0.407, Accuracy: 0.882\n",
      "\n",
      "[Trial 4] Starting with hyperparameters: {'hidden_layers': '512,256,128', 'activation': 'ReLU', 'l2_penalty': 0.0033595011450796414, 'learning_rate': 0.0001675461714870717, 'batch_size': 64, 'optimizer': 'Nesterov', 'momentum': 0.8055710506789002}\n",
      "[Trial 4] Epoch 1/10 - Loss: 2.302, Accuracy: 0.119\n",
      "[Trial 4] Epoch 2/10 - Loss: 2.296, Accuracy: 0.145\n",
      "[Trial 4] Epoch 3/10 - Loss: 2.289, Accuracy: 0.189\n",
      "[Trial 4] Epoch 4/10 - Loss: 2.281, Accuracy: 0.251\n",
      "[Trial 4] Epoch 5/10 - Loss: 2.271, Accuracy: 0.342\n",
      "[Trial 4] Epoch 6/10 - Loss: 2.257, Accuracy: 0.399\n",
      "[Trial 4] Epoch 7/10 - Loss: 2.239, Accuracy: 0.437\n",
      "[Trial 4] Epoch 8/10 - Loss: 2.214, Accuracy: 0.455\n",
      "[Trial 4] Epoch 9/10 - Loss: 2.175, Accuracy: 0.461\n"
     ]
    },
    {
     "name": "stderr",
     "output_type": "stream",
     "text": [
      "[I 2024-12-17 01:48:17,715] Trial 4 finished with value: 0.4659 and parameters: {'hidden_layers': '512,256,128', 'activation': 'ReLU', 'l2_penalty': 0.0033595011450796414, 'learning_rate': 0.0001675461714870717, 'batch_size': 64, 'optimizer': 'Nesterov', 'momentum': 0.8055710506789002}. Best is trial 0 with value: 0.979.\n"
     ]
    },
    {
     "name": "stdout",
     "output_type": "stream",
     "text": [
      "[Trial 4] Epoch 10/10 - Loss: 2.116, Accuracy: 0.466\n",
      "\n",
      "[Trial 5] Starting with hyperparameters: {'hidden_layers': '512,256,128', 'activation': 'ReLU', 'l2_penalty': 0.00012408273796547448, 'learning_rate': 0.0001410872032557891, 'batch_size': 256, 'optimizer': 'SGD'}\n"
     ]
    },
    {
     "name": "stderr",
     "output_type": "stream",
     "text": [
      "[I 2024-12-17 01:48:27,967] Trial 5 pruned. \n"
     ]
    },
    {
     "name": "stdout",
     "output_type": "stream",
     "text": [
      "[Trial 5] Epoch 1/10 - Loss: 2.302, Accuracy: 0.071\n",
      "\n",
      "[Trial 6] Starting with hyperparameters: {'hidden_layers': '512,256,128', 'activation': 'SoftReLU', 'l2_penalty': 1.1641423905582434e-05, 'learning_rate': 0.00237438286153223, 'batch_size': 64, 'optimizer': 'SGD'}\n"
     ]
    },
    {
     "name": "stderr",
     "output_type": "stream",
     "text": [
      "[I 2024-12-17 01:48:41,174] Trial 6 pruned. \n"
     ]
    },
    {
     "name": "stdout",
     "output_type": "stream",
     "text": [
      "[Trial 6] Epoch 1/10 - Loss: 2.302, Accuracy: 0.114\n",
      "\n",
      "[Trial 7] Starting with hyperparameters: {'hidden_layers': '512,256,128', 'activation': 'ReLU', 'l2_penalty': 0.0014390449245207909, 'learning_rate': 0.0026252397849718606, 'batch_size': 256, 'optimizer': 'SGD'}\n"
     ]
    },
    {
     "name": "stderr",
     "output_type": "stream",
     "text": [
      "[I 2024-12-17 01:48:51,153] Trial 7 pruned. \n"
     ]
    },
    {
     "name": "stdout",
     "output_type": "stream",
     "text": [
      "[Trial 7] Epoch 1/10 - Loss: 2.301, Accuracy: 0.103\n",
      "\n",
      "[Trial 8] Starting with hyperparameters: {'hidden_layers': '512,256,128', 'activation': 'SoftReLU', 'l2_penalty': 0.0002764735600553926, 'learning_rate': 0.0025366914538804243, 'batch_size': 256, 'optimizer': 'Nesterov', 'momentum': 0.9279084115268388}\n"
     ]
    },
    {
     "name": "stderr",
     "output_type": "stream",
     "text": [
      "[I 2024-12-17 01:49:01,514] Trial 8 pruned. \n"
     ]
    },
    {
     "name": "stdout",
     "output_type": "stream",
     "text": [
      "[Trial 8] Epoch 1/10 - Loss: 2.301, Accuracy: 0.117\n",
      "\n",
      "[Trial 9] Starting with hyperparameters: {'hidden_layers': '512,256,128', 'activation': 'ReLU', 'l2_penalty': 0.008298863521724176, 'learning_rate': 0.0009640390468456209, 'batch_size': 128, 'optimizer': 'Nesterov', 'momentum': 0.9289883803142891}\n"
     ]
    },
    {
     "name": "stderr",
     "output_type": "stream",
     "text": [
      "[I 2024-12-17 01:49:13,292] Trial 9 pruned. \n"
     ]
    },
    {
     "name": "stdout",
     "output_type": "stream",
     "text": [
      "[Trial 9] Epoch 1/10 - Loss: 2.268, Accuracy: 0.482\n",
      "Best trial number: 0\n",
      "Best accuracy: 0.979\n",
      "Best parameters:\n",
      "{'hidden_layers': '128', 'activation': 'SoftReLU', 'l2_penalty': 2.3601999806301013e-05, 'learning_rate': 0.003956366108873872, 'batch_size': 128, 'optimizer': 'Adam', 'beta1': 0.8287917974530906, 'beta2': 0.9841582580610025}\n"
     ]
    }
   ],
   "source": [
    "# Single-cell implementation for Optuna Bayesian Optimization with Batch Size\n",
    "import optuna\n",
    "from torch.utils.data import DataLoader\n",
    "import os\n",
    "import torch\n",
    "\n",
    "# Ensure folder exists to save models\n",
    "os.makedirs(\"bayesian\", exist_ok=True)\n",
    "\n",
    "device = torch.device(\"cuda\" if torch.cuda.is_available() else \"cpu\")\n",
    "input_size = 28 * 28\n",
    "output_size = 10\n",
    "num_epochs = 10  # Adjust as needed\n",
    "\n",
    "# Objective function for Optuna\n",
    "def objective(trial):\n",
    "    # Hyperparameter search space\n",
    "    hidden_layers_str = trial.suggest_categorical(\n",
    "        \"hidden_layers\", [\"128\", \"256,128\", \"512,256,128\"]\n",
    "    )\n",
    "    hidden_layers = tuple(map(int, hidden_layers_str.split(',')))\n",
    "    activation = trial.suggest_categorical(\"activation\", [\"ReLU\", \"SoftReLU\"])\n",
    "    l2_penalty = trial.suggest_float(\"l2_penalty\", 1e-5, 1e-2, log=True)\n",
    "    learning_rate = trial.suggest_float(\"learning_rate\", 1e-4, 1e-2, log=True)\n",
    "    batch_size = trial.suggest_categorical(\"batch_size\", [64, 128, 256])\n",
    "    optimizer_type = trial.suggest_categorical(\"optimizer\", [\"SGD\", \"Adam\", \"Nesterov\"])\n",
    "\n",
    "    # Additional optimizer-specific parameters\n",
    "    if optimizer_type == \"Nesterov\":\n",
    "        momentum = trial.suggest_float(\"momentum\", 0.8, 0.99)\n",
    "    elif optimizer_type == \"Adam\":\n",
    "        beta1 = trial.suggest_float(\"beta1\", 0.8, 0.99)\n",
    "        beta2 = trial.suggest_float(\"beta2\", 0.9, 0.999)\n",
    "\n",
    "    print(f\"\\n[Trial {trial.number}] Starting with hyperparameters: {trial.params}\")\n",
    "\n",
    "    # Define data loaders with the sampled batch size\n",
    "    train_loader = DataLoader(\n",
    "        train_dataset, batch_size=batch_size, shuffle=True, pin_memory=True, num_workers=0\n",
    "    )\n",
    "    test_loader = DataLoader(\n",
    "        test_dataset, batch_size=batch_size, shuffle=False, pin_memory=True, num_workers=0\n",
    "    )\n",
    "\n",
    "    # Define the model\n",
    "    model = FeedForwardNN(input_size, hidden_layers, output_size, activation, l2_penalty).to(device)\n",
    "    criterion = nn.CrossEntropyLoss()\n",
    "\n",
    "    # Optimizer setup\n",
    "    if optimizer_type == \"SGD\":\n",
    "        optimizer = torch.optim.SGD(model.parameters(), lr=learning_rate, weight_decay=l2_penalty)\n",
    "    elif optimizer_type == \"Adam\":\n",
    "        optimizer = torch.optim.Adam(\n",
    "            model.parameters(),\n",
    "            lr=learning_rate,\n",
    "            betas=(beta1, beta2),\n",
    "            weight_decay=l2_penalty,\n",
    "        )\n",
    "    elif optimizer_type == \"Nesterov\":\n",
    "        optimizer = torch.optim.SGD(\n",
    "            model.parameters(),\n",
    "            lr=learning_rate,\n",
    "            momentum=momentum,\n",
    "            nesterov=True,\n",
    "            weight_decay=l2_penalty,\n",
    "        )\n",
    "\n",
    "    # Training and evaluation\n",
    "    best_accuracy = 0\n",
    "    for epoch in range(num_epochs):\n",
    "        train_loss = train(model, train_loader, optimizer, criterion, device)\n",
    "        accuracy = evaluate(model, test_loader, device)\n",
    "\n",
    "        print(f\"[Trial {trial.number}] Epoch {epoch + 1}/{num_epochs} - Loss: {train_loss:.3f}, Accuracy: {accuracy:.3f}\")\n",
    "\n",
    "        if accuracy > best_accuracy:\n",
    "            best_accuracy = accuracy\n",
    "            torch.save(\n",
    "                {\n",
    "                    \"model_state_dict\": model.state_dict(),\n",
    "                    \"trial_params\": trial.params,\n",
    "                },\n",
    "                f\"bayesian/best_model_trial_{trial.number}.pth\",\n",
    "            )\n",
    "\n",
    "        # Early stopping if necessary\n",
    "        trial.report(best_accuracy, epoch)\n",
    "        if trial.should_prune():\n",
    "            raise optuna.exceptions.TrialPruned()\n",
    "\n",
    "    return best_accuracy\n",
    "\n",
    "# Create Optuna study for Bayesian Optimization\n",
    "optuna.logging.set_verbosity(optuna.logging.INFO)  # Enable progress logs\n",
    "study = optuna.create_study(direction=\"maximize\")  # Bayesian optimization is the default strategy\n",
    "study.optimize(objective, n_trials=10)\n",
    "\n",
    "# Save the best trial's model and parameters\n",
    "best_trial = study.best_trial\n",
    "best_model_path = f\"bayesian/best_model_trial_{best_trial.number}.pth\"\n",
    "torch.save(\n",
    "    {\n",
    "        \"model_state_dict\": torch.load(best_model_path)[\"model_state_dict\"],\n",
    "        \"best_params\": best_trial.params,\n",
    "    },\n",
    "    \"bayesian/best_model_overall.pth\",\n",
    ")\n",
    "\n",
    "print(f\"Best trial number: {best_trial.number}\")\n",
    "print(f\"Best accuracy: {best_trial.value:.3f}\")\n",
    "print(\"Best parameters:\")\n",
    "print(best_trial.params)\n"
   ]
  },
  {
   "cell_type": "code",
   "execution_count": 84,
   "metadata": {},
   "outputs": [
    {
     "name": "stdout",
     "output_type": "stream",
     "text": [
      "0.980\n",
      "{'hidden_layers': '512,256,128', 'activation': 'SoftReLU', 'l2_penalty': 3.7223519343745444e-05, 'learning_rate': 0.0023480615144601947, 'batch_size': 64, 'optimizer': 'Adam', 'beta1': 0.955891320442451, 'beta2': 0.9973131346221021}\n"
     ]
    }
   ],
   "source": [
    "model_path = \"hyperband_models/best_model_overall.pth\"\n",
    "checkpoint = torch.load(model_path, map_location=device)\n",
    "best_params = checkpoint[\"best_params\"]\n",
    "state_dict = checkpoint[\"model_state_dict\"]\n",
    "hidden_layers = tuple(map(int, best_params[\"hidden_layers\"].split(\",\")))\n",
    "activation = best_params[\"activation\"]\n",
    "l2_penalty = best_params[\"l2_penalty\"]\n",
    "best_model = FeedForwardNN(\n",
    "    input_size=28 * 28, \n",
    "    hidden_sizes=hidden_layers,\n",
    "    output_size=10,\n",
    "    activation=activation,\n",
    "    l2_penalty=l2_penalty,\n",
    ").to(device)\n",
    "best_model.load_state_dict(state_dict)\n",
    "accuracy=evaluate(best_model,test_loader=test_loader, device=device)\n",
    "print(f'{accuracy:.3f}')\n",
    "print(best_params)"
   ]
  },
  {
   "cell_type": "code",
   "execution_count": 83,
   "metadata": {},
   "outputs": [
    {
     "name": "stdout",
     "output_type": "stream",
     "text": [
      "Best Model Summary:\n",
      "----------------------------------------------------------------\n",
      "        Layer (type)               Output Shape         Param #\n",
      "================================================================\n",
      "            Linear-1                  [-1, 512]         401,920\n",
      "          Softplus-2                  [-1, 512]               0\n",
      "            Linear-3                  [-1, 256]         131,328\n",
      "          Softplus-4                  [-1, 256]               0\n",
      "            Linear-5                  [-1, 128]          32,896\n",
      "          Softplus-6                  [-1, 128]               0\n",
      "            Linear-7                   [-1, 10]           1,290\n",
      "================================================================\n",
      "Total params: 567,434\n",
      "Trainable params: 567,434\n",
      "Non-trainable params: 0\n",
      "----------------------------------------------------------------\n",
      "Input size (MB): 0.00\n",
      "Forward/backward pass size (MB): 0.01\n",
      "Params size (MB): 2.16\n",
      "Estimated Total Size (MB): 2.18\n",
      "----------------------------------------------------------------\n"
     ]
    }
   ],
   "source": [
    "from torchsummary import summary\n",
    "\n",
    "print(\"Best Model Summary:\")\n",
    "summary(best_model, input_size=input_shape)\n"
   ]
  },
  {
   "cell_type": "markdown",
   "metadata": {
    "id": "Sdo-5-26WCft"
   },
   "source": [
    "## Step 4: Visualizing Model Performance\n",
    "\n",
    "In this final step, you will visualize your model's performance using a series of plots. These visualizations will help you understand how well the model performed, identify areas for potential improvement, and interpret any misclassifications.\n",
    "\n",
    "1. **Plot the Training History**: This plot shows the training and validation accuracy over each epoch. By examining this plot, you can see how the model's accuracy improved with each epoch and check if there’s any overfitting (e.g., if training accuracy is much higher than validation accuracy).\n",
    "\n",
    "2. **Plot the Confusion Matrix**: The confusion matrix provides a detailed view of the model's performance across each digit class (0–9). Each cell in the matrix shows the number of true vs. predicted classifications for each class. This helps you identify specific digits that the model struggles to classify correctly, as they may have higher misclassification counts.\n",
    "\n",
    "3. **Visualize Misclassified Images**: In this grid, you’ll see some of the images that were incorrectly classified by the model. Each image shows the true label and the predicted label. Examining these misclassified examples can give you insight into where the model might have difficulty, such as digits that look similar (e.g., 3 and 5). It can also help you decide if additional data processing or model adjustments are needed.\n",
    "\n",
    "### Tips for Interpretation:\n",
    "- **Training History**: If the validation accuracy plateaus early or diverges significantly from training accuracy, consider revisiting your model architecture or hyperparameters.\n",
    "- **Confusion Matrix**: Look for off-diagonal cells with high values, as these indicate common misclassifications.\n",
    "- **Misclassified Images**: Understanding these cases can guide you in tuning or improving your model, such as adding more data for challenging classes.\n",
    "\n",
    "By analyzing these plots, you’ll gain a deeper understanding of your model’s strengths and weaknesses on the MNIST dataset."
   ]
  },
  {
   "cell_type": "code",
   "execution_count": 87,
   "metadata": {},
   "outputs": [
    {
     "data": {
      "text/plain": [
       "'Adam'"
      ]
     },
     "execution_count": 87,
     "metadata": {},
     "output_type": "execute_result"
    }
   ],
   "source": [
    "best_params['optimizer']"
   ]
  },
  {
   "cell_type": "code",
   "execution_count": 90,
   "metadata": {
    "colab": {
     "base_uri": "https://localhost:8080/",
     "height": 564
    },
    "id": "7llgLosoWCft",
    "outputId": "5dc7b193-b892-4faa-9f95-65d3bfb57373"
   },
   "outputs": [],
   "source": [
    "model = FeedForwardNN(\n",
    "    input_size=28 * 28, \n",
    "    hidden_sizes=hidden_layers,\n",
    "    output_size=10,\n",
    "    activation=activation,\n",
    "    l2_penalty=l2_penalty,\n",
    ").to(device)\n",
    "lr = best_params['learning_rate']\n",
    "batch_size = best_params['batch_size']\n",
    "beta1 = best_params['beta1']\n",
    "beta2 = best_params['beta2']"
   ]
  },
  {
   "cell_type": "code",
   "execution_count": 91,
   "metadata": {},
   "outputs": [],
   "source": [
    "optimizer = torch.optim.Adam(\n",
    "    model.parameters(),\n",
    "    lr=lr,\n",
    "    betas=(beta1, beta2),\n",
    "    weight_decay=l2_penalty,\n",
    ")"
   ]
  },
  {
   "cell_type": "code",
   "execution_count": 94,
   "metadata": {},
   "outputs": [],
   "source": [
    "num_epochs=15"
   ]
  },
  {
   "cell_type": "code",
   "execution_count": 95,
   "metadata": {},
   "outputs": [
    {
     "name": "stdout",
     "output_type": "stream",
     "text": [
      "Epoch 1/15: Train Loss = 0.115, Test Loss = 0.112, Train Acc = 0.972, Test Acc = 0.964\n",
      "Epoch 2/15: Train Loss = 0.084, Test Loss = 0.078, Train Acc = 0.982, Test Acc = 0.976\n",
      "Epoch 3/15: Train Loss = 0.068, Test Loss = 0.079, Train Acc = 0.986, Test Acc = 0.975\n",
      "Epoch 4/15: Train Loss = 0.056, Test Loss = 0.066, Train Acc = 0.990, Test Acc = 0.980\n",
      "Epoch 5/15: Train Loss = 0.048, Test Loss = 0.092, Train Acc = 0.984, Test Acc = 0.973\n",
      "Epoch 6/15: Train Loss = 0.042, Test Loss = 0.078, Train Acc = 0.990, Test Acc = 0.978\n",
      "Epoch 7/15: Train Loss = 0.041, Test Loss = 0.075, Train Acc = 0.991, Test Acc = 0.978\n",
      "Epoch 8/15: Train Loss = 0.036, Test Loss = 0.075, Train Acc = 0.993, Test Acc = 0.980\n",
      "Epoch 9/15: Train Loss = 0.035, Test Loss = 0.115, Train Acc = 0.986, Test Acc = 0.972\n",
      "Epoch 10/15: Train Loss = 0.035, Test Loss = 0.073, Train Acc = 0.993, Test Acc = 0.979\n",
      "Epoch 11/15: Train Loss = 0.030, Test Loss = 0.092, Train Acc = 0.989, Test Acc = 0.977\n",
      "Epoch 12/15: Train Loss = 0.029, Test Loss = 0.075, Train Acc = 0.992, Test Acc = 0.980\n",
      "Epoch 13/15: Train Loss = 0.028, Test Loss = 0.080, Train Acc = 0.993, Test Acc = 0.979\n",
      "Epoch 14/15: Train Loss = 0.029, Test Loss = 0.074, Train Acc = 0.995, Test Acc = 0.980\n",
      "Epoch 15/15: Train Loss = 0.027, Test Loss = 0.079, Train Acc = 0.992, Test Acc = 0.980\n"
     ]
    }
   ],
   "source": [
    "criterion = torch.nn.CrossEntropyLoss()\n",
    "\n",
    "# History dictionary to store metrics\n",
    "history = {\n",
    "    'train_loss': [], 'test_loss': [],\n",
    "    'train_accuracy': [], 'test_accuracy': []\n",
    "}\n",
    "\n",
    "# Training loop\n",
    "for epoch in range(num_epochs):\n",
    "    # Train for one epoch\n",
    "    train_loss = train(model, train_loader, optimizer, criterion, device)\n",
    "\n",
    "    # Evaluate on train and test datasets\n",
    "    train_accuracy = evaluate(model, train_loader, device)\n",
    "    test_accuracy = evaluate(model, test_loader, device)\n",
    "\n",
    "    # Calculate test loss\n",
    "    model.eval()\n",
    "    test_loss = 0\n",
    "    with torch.no_grad():\n",
    "        for images, labels in test_loader:\n",
    "            images, labels = images.to(device), labels.to(device)\n",
    "            outputs = model(images)\n",
    "            loss = criterion(outputs, labels)\n",
    "            test_loss += loss.item()\n",
    "    test_loss /= len(test_loader)\n",
    "\n",
    "    # Store metrics\n",
    "    history['train_loss'].append(train_loss)\n",
    "    history['test_loss'].append(test_loss)\n",
    "    history['train_accuracy'].append(train_accuracy)\n",
    "    history['test_accuracy'].append(test_accuracy)\n",
    "    print(f\"Epoch {epoch + 1}/{num_epochs}: \"\n",
    "    f\"Train Loss = {train_loss:.3f}, Test Loss = {test_loss:.3f}, \"\n",
    "    f\"Train Acc = {train_accuracy:.3f}, Test Acc = {test_accuracy:.3f}\")\n"
   ]
  },
  {
   "cell_type": "markdown",
   "metadata": {},
   "source": [
    "### Training Progress"
   ]
  },
  {
   "cell_type": "code",
   "execution_count": 96,
   "metadata": {},
   "outputs": [
    {
     "data": {
      "image/png": "[encoded data removed]",
      "text/plain": [
       "<Figure size 1000x600 with 1 Axes>"
      ]
     },
     "metadata": {},
     "output_type": "display_data"
    },
    {
     "data": {
      "image/png": "[encoded data removed]",
      "text/plain": [
       "<Figure size 1000x600 with 1 Axes>"
      ]
     },
     "metadata": {},
     "output_type": "display_data"
    }
   ],
   "source": [
    "import matplotlib.pyplot as plt\n",
    "\n",
    "# Plot for Loss\n",
    "plt.figure(figsize=(10, 6))\n",
    "plt.plot(range(1, num_epochs + 1), history['train_loss'], label='Train Loss')\n",
    "plt.plot(range(1, num_epochs + 1), history['test_loss'], label='Test Loss')\n",
    "plt.xlabel('Epoch')\n",
    "plt.ylabel('Loss')\n",
    "plt.title('Training and Test Loss')\n",
    "plt.legend()\n",
    "plt.grid(True)\n",
    "plt.show()\n",
    "\n",
    "# Plot for Accuracy\n",
    "plt.figure(figsize=(10, 6))\n",
    "plt.plot(range(1, num_epochs + 1), history['train_accuracy'], label='Train Accuracy')\n",
    "plt.plot(range(1, num_epochs + 1), history['test_accuracy'], label='Test Accuracy')\n",
    "plt.xlabel('Epoch')\n",
    "plt.ylabel('Accuracy')\n",
    "plt.title('Training and Test Accuracy')\n",
    "plt.legend()\n",
    "plt.grid(True)\n",
    "plt.show()\n"
   ]
  },
  {
   "cell_type": "markdown",
   "metadata": {},
   "source": [
    "## Confusion Matrix"
   ]
  },
  {
   "cell_type": "code",
   "execution_count": 97,
   "metadata": {
    "colab": {
     "base_uri": "https://localhost:8080/",
     "height": 564
    },
    "id": "D2GJopsXWCft",
    "outputId": "b28d2f34-21b5-42d0-d7c0-e2dc14e27421"
   },
   "outputs": [
    {
     "data": {
      "image/png": "[encoded data removed]",
      "text/plain": [
       "<Figure size 800x600 with 2 Axes>"
      ]
     },
     "metadata": {},
     "output_type": "display_data"
    }
   ],
   "source": [
    "import seaborn as sns\n",
    "from sklearn.metrics import confusion_matrix\n",
    "import matplotlib.pyplot as plt\n",
    "import numpy as np\n",
    "\n",
    "# Function to get true labels and predictions from the test set\n",
    "def get_predictions_and_labels(model, data_loader, device):\n",
    "    model.eval()  # Set model to evaluation mode\n",
    "    all_preds = []\n",
    "    all_labels = []\n",
    "    \n",
    "    with torch.no_grad():\n",
    "        for images, labels in data_loader:\n",
    "            images, labels = images.to(device), labels.to(device)\n",
    "            outputs = model(images)\n",
    "            preds = outputs.argmax(dim=1)  # Get predicted class labels\n",
    "            all_preds.extend(preds.cpu().numpy())  # Store predictions\n",
    "            all_labels.extend(labels.cpu().numpy())  # Store true labels\n",
    "            \n",
    "    return np.array(all_labels), np.array(all_preds)\n",
    "\n",
    "# Compute confusion matrix\n",
    "true_labels, predicted_labels = get_predictions_and_labels(best_model, test_loader, device)\n",
    "cm = confusion_matrix(true_labels, predicted_labels)\n",
    "\n",
    "# Plot the confusion matrix heatmap\n",
    "plt.figure(figsize=(8, 6))\n",
    "sns.heatmap(cm, annot=True, fmt='d', cmap='Blues', xticklabels=range(10), yticklabels=range(10))\n",
    "plt.xlabel('Predicted Labels')\n",
    "plt.ylabel('True Labels')\n",
    "plt.title('Confusion Matrix')\n",
    "plt.show()\n"
   ]
  },
  {
   "cell_type": "markdown",
   "metadata": {},
   "source": [
    "### Manual Inspection of incorrect predictions"
   ]
  },
  {
   "cell_type": "code",
   "execution_count": 98,
   "metadata": {
    "colab": {
     "base_uri": "https://localhost:8080/",
     "height": 607
    },
    "id": "ZJcLCl8XWCft",
    "outputId": "fedf1eff-70da-476d-958d-a5cfb2d0e389"
   },
   "outputs": [
    {
     "data": {
      "image/png": "[encoded data removed]",
      "text/plain": [
       "<Figure size 1000x800 with 20 Axes>"
      ]
     },
     "metadata": {},
     "output_type": "display_data"
    }
   ],
   "source": [
    "import matplotlib.pyplot as plt\n",
    "import numpy as np\n",
    "\n",
    "# Function to find incorrect predictions\n",
    "def get_incorrect_indices(model, data_loader, device):\n",
    "    model.eval()\n",
    "    incorrect_indices = []\n",
    "    incorrect_images = []\n",
    "    incorrect_labels = []\n",
    "    incorrect_preds = []\n",
    "    \n",
    "    with torch.no_grad():\n",
    "        for images, labels in data_loader:\n",
    "            images, labels = images.to(device), labels.to(device)\n",
    "            outputs = model(images)\n",
    "            preds = outputs.argmax(dim=1)\n",
    "\n",
    "            # Identify incorrect predictions\n",
    "            mismatches = (preds != labels)\n",
    "            incorrect_indices.extend(np.where(mismatches.cpu().numpy())[0])\n",
    "            incorrect_images.extend(images[mismatches].cpu().numpy())\n",
    "            incorrect_labels.extend(labels[mismatches].cpu().numpy())\n",
    "            incorrect_preds.extend(preds[mismatches].cpu().numpy())\n",
    "    \n",
    "    return incorrect_indices, incorrect_images, incorrect_labels, incorrect_preds\n",
    "\n",
    "# Get incorrect predictions\n",
    "incorrect_indices, incorrect_images, incorrect_labels, incorrect_preds = get_incorrect_indices(best_model, test_loader, device)\n",
    "\n",
    "# Visualize the first 20 incorrect predictions\n",
    "plt.figure(figsize=(10, 8))\n",
    "for i in range(min(20, len(incorrect_indices))):\n",
    "    plt.subplot(4, 5, i + 1)\n",
    "    plt.imshow(incorrect_images[i].squeeze(), cmap='gray')  # Remove extra dimensions for grayscale\n",
    "    plt.title(f\"True: {incorrect_labels[i]} \\nPred: {incorrect_preds[i]}\")\n",
    "    plt.axis('off')\n",
    "\n",
    "plt.tight_layout()\n",
    "plt.show()\n"
   ]
  },
  {
   "cell_type": "code",
   "execution_count": null,
   "metadata": {},
   "outputs": [],
   "source": []
  }
 ],
 "metadata": {
  "colab": {
   "provenance": []
  },
  "kernelspec": {
   "display_name": "deeplearning",
   "language": "python",
   "name": "python3"
  },
  "language_info": {
   "codemirror_mode": {
    "name": "ipython",
    "version": 3
   },
   "file_extension": ".py",
   "mimetype": "text/x-python",
   "name": "python",
   "nbconvert_exporter": "python",
   "pygments_lexer": "ipython3",
   "version": "3.10.15"
  }
 },
 "nbformat": 4,
 "nbformat_minor": 0
}
